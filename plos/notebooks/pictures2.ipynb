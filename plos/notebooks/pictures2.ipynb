{
 "cells": [
  {
   "cell_type": "code",
   "execution_count": 51,
   "metadata": {},
   "outputs": [],
   "source": [
    "import pandas as pd\n",
    "from scipy import stats\n",
    "from matplotlib import pyplot as plt\n",
    "from collections import Counter\n",
    "from tqdm import tqdm, trange\n",
    "import numpy as np\n",
    "import tikzplotlib\n",
    "from mlxtend.evaluate import permutation_test\n",
    "from nltk.corpus import wordnet as wn"
   ]
  },
  {
   "cell_type": "code",
   "execution_count": 2,
   "metadata": {},
   "outputs": [],
   "source": [
    "soc_df = pd.read_csv(\"data/gazetteer/soc.csv\", index_col=None)\n",
    "gzt_df = pd.read_csv(\"data/gazetteer/inflection.csv\", index_col=None)"
   ]
  },
  {
   "cell_type": "code",
   "execution_count": 3,
   "metadata": {},
   "outputs": [
    {
     "data": {
      "text/html": [
       "<div>\n",
       "<style scoped>\n",
       "    .dataframe tbody tr th:only-of-type {\n",
       "        vertical-align: middle;\n",
       "    }\n",
       "\n",
       "    .dataframe tbody tr th {\n",
       "        vertical-align: top;\n",
       "    }\n",
       "\n",
       "    .dataframe thead th {\n",
       "        text-align: right;\n",
       "    }\n",
       "</style>\n",
       "<table border=\"1\" class=\"dataframe\">\n",
       "  <thead>\n",
       "    <tr style=\"text-align: right;\">\n",
       "      <th></th>\n",
       "      <th>2018 SOC Code</th>\n",
       "      <th>2018 SOC Title</th>\n",
       "      <th>2018 SOC Direct Match Title</th>\n",
       "      <th>Illustrative Example</th>\n",
       "    </tr>\n",
       "  </thead>\n",
       "  <tbody>\n",
       "    <tr>\n",
       "      <th>0</th>\n",
       "      <td>11-1011</td>\n",
       "      <td>Chief Executives</td>\n",
       "      <td>Admiral</td>\n",
       "      <td>x</td>\n",
       "    </tr>\n",
       "    <tr>\n",
       "      <th>1</th>\n",
       "      <td>11-1011</td>\n",
       "      <td>Chief Executives</td>\n",
       "      <td>CEO</td>\n",
       "      <td>NaN</td>\n",
       "    </tr>\n",
       "    <tr>\n",
       "      <th>2</th>\n",
       "      <td>11-1011</td>\n",
       "      <td>Chief Executives</td>\n",
       "      <td>Chief Executive Officer</td>\n",
       "      <td>NaN</td>\n",
       "    </tr>\n",
       "    <tr>\n",
       "      <th>3</th>\n",
       "      <td>11-1011</td>\n",
       "      <td>Chief Executives</td>\n",
       "      <td>Chief Financial Officer</td>\n",
       "      <td>x</td>\n",
       "    </tr>\n",
       "    <tr>\n",
       "      <th>4</th>\n",
       "      <td>11-1011</td>\n",
       "      <td>Chief Executives</td>\n",
       "      <td>Chief Operating Officer</td>\n",
       "      <td>x</td>\n",
       "    </tr>\n",
       "  </tbody>\n",
       "</table>\n",
       "</div>"
      ],
      "text/plain": [
       "  2018 SOC Code    2018 SOC Title 2018 SOC Direct Match Title  \\\n",
       "0       11-1011  Chief Executives                     Admiral   \n",
       "1       11-1011  Chief Executives                         CEO   \n",
       "2       11-1011  Chief Executives     Chief Executive Officer   \n",
       "3       11-1011  Chief Executives     Chief Financial Officer   \n",
       "4       11-1011  Chief Executives     Chief Operating Officer   \n",
       "\n",
       "  Illustrative Example  \n",
       "0                    x  \n",
       "1                  NaN  \n",
       "2                  NaN  \n",
       "3                    x  \n",
       "4                    x  "
      ]
     },
     "execution_count": 3,
     "metadata": {},
     "output_type": "execute_result"
    }
   ],
   "source": [
    "soc_df.head()"
   ]
  },
  {
   "cell_type": "code",
   "execution_count": 6,
   "metadata": {},
   "outputs": [
    {
     "data": {
      "text/plain": [
       "426"
      ]
     },
     "execution_count": 6,
     "metadata": {},
     "output_type": "execute_result"
    }
   ],
   "source": [
    "(soc_df[\"2018 SOC Direct Match Title\"].str.split().agg(len) == 1).sum()"
   ]
  },
  {
   "cell_type": "code",
   "execution_count": 7,
   "metadata": {},
   "outputs": [
    {
     "data": {
      "text/plain": [
       "0.06533742331288343"
      ]
     },
     "execution_count": 7,
     "metadata": {},
     "output_type": "execute_result"
    }
   ],
   "source": [
    "426/6520"
   ]
  },
  {
   "cell_type": "code",
   "execution_count": 8,
   "metadata": {},
   "outputs": [
    {
     "data": {
      "text/html": [
       "<div>\n",
       "<style scoped>\n",
       "    .dataframe tbody tr th:only-of-type {\n",
       "        vertical-align: middle;\n",
       "    }\n",
       "\n",
       "    .dataframe tbody tr th {\n",
       "        vertical-align: top;\n",
       "    }\n",
       "\n",
       "    .dataframe thead th {\n",
       "        text-align: right;\n",
       "    }\n",
       "</style>\n",
       "<table border=\"1\" class=\"dataframe\">\n",
       "  <thead>\n",
       "    <tr style=\"text-align: right;\">\n",
       "      <th></th>\n",
       "      <th>word</th>\n",
       "      <th>singular</th>\n",
       "      <th>plural</th>\n",
       "      <th>singular_key</th>\n",
       "      <th>plural_key</th>\n",
       "    </tr>\n",
       "  </thead>\n",
       "  <tbody>\n",
       "    <tr>\n",
       "      <th>0</th>\n",
       "      <td>1st lieutenant</td>\n",
       "      <td>1st lieutenant</td>\n",
       "      <td>1st lieutenants</td>\n",
       "      <td>1st lieutenant</td>\n",
       "      <td>1st lieutenant</td>\n",
       "    </tr>\n",
       "    <tr>\n",
       "      <th>1</th>\n",
       "      <td>2nd lieutenant</td>\n",
       "      <td>2nd lieutenant</td>\n",
       "      <td>2nd lieutenants</td>\n",
       "      <td>2nd lieutenant</td>\n",
       "      <td>2nd lieutenant</td>\n",
       "    </tr>\n",
       "    <tr>\n",
       "      <th>2</th>\n",
       "      <td>3d animator</td>\n",
       "      <td>3d animator</td>\n",
       "      <td>3d animators</td>\n",
       "      <td>3d animator</td>\n",
       "      <td>3d animator</td>\n",
       "    </tr>\n",
       "    <tr>\n",
       "      <th>3</th>\n",
       "      <td>3rd grade reading teacher</td>\n",
       "      <td>3rd grade reading teacher</td>\n",
       "      <td>3rd grade reading teachers</td>\n",
       "      <td>3rd grade reading teacher</td>\n",
       "      <td>3rd grade reading teacher</td>\n",
       "    </tr>\n",
       "    <tr>\n",
       "      <th>4</th>\n",
       "      <td>4-h youth development specialist</td>\n",
       "      <td>4-h youth development specialist</td>\n",
       "      <td>4-h youth development specialists</td>\n",
       "      <td>4-h youth development specialist</td>\n",
       "      <td>4-h youth development specialist</td>\n",
       "    </tr>\n",
       "  </tbody>\n",
       "</table>\n",
       "</div>"
      ],
      "text/plain": [
       "                               word                          singular  \\\n",
       "0                    1st lieutenant                    1st lieutenant   \n",
       "1                    2nd lieutenant                    2nd lieutenant   \n",
       "2                       3d animator                       3d animator   \n",
       "3         3rd grade reading teacher         3rd grade reading teacher   \n",
       "4  4-h youth development specialist  4-h youth development specialist   \n",
       "\n",
       "                              plural                      singular_key  \\\n",
       "0                    1st lieutenants                    1st lieutenant   \n",
       "1                    2nd lieutenants                    2nd lieutenant   \n",
       "2                       3d animators                       3d animator   \n",
       "3         3rd grade reading teachers         3rd grade reading teacher   \n",
       "4  4-h youth development specialists  4-h youth development specialist   \n",
       "\n",
       "                         plural_key  \n",
       "0                    1st lieutenant  \n",
       "1                    2nd lieutenant  \n",
       "2                       3d animator  \n",
       "3         3rd grade reading teacher  \n",
       "4  4-h youth development specialist  "
      ]
     },
     "execution_count": 8,
     "metadata": {},
     "output_type": "execute_result"
    }
   ],
   "source": [
    "gzt_df.head()"
   ]
  },
  {
   "cell_type": "code",
   "execution_count": 10,
   "metadata": {},
   "outputs": [
    {
     "data": {
      "text/plain": [
       "1881"
      ]
     },
     "execution_count": 10,
     "metadata": {},
     "output_type": "execute_result"
    }
   ],
   "source": [
    "(gzt_df.word.str.split().agg(len) == 1).sum()"
   ]
  },
  {
   "cell_type": "code",
   "execution_count": 11,
   "metadata": {},
   "outputs": [
    {
     "data": {
      "text/plain": [
       "0.17174945215485757"
      ]
     },
     "execution_count": 11,
     "metadata": {},
     "output_type": "execute_result"
    }
   ],
   "source": [
    "1881/10952"
   ]
  },
  {
   "cell_type": "code",
   "execution_count": 12,
   "metadata": {},
   "outputs": [],
   "source": [
    "imdb_df = pd.read_csv(\"data/imdb/imdb.ngram.csv\", index_col=None)"
   ]
  },
  {
   "cell_type": "code",
   "execution_count": 13,
   "metadata": {},
   "outputs": [
    {
     "data": {
      "text/plain": [
       "0.9401608847188929"
      ]
     },
     "execution_count": 13,
     "metadata": {},
     "output_type": "execute_result"
    }
   ],
   "source": [
    "imdb_df.imdb_kind.isin([\"movie\",\"episode\"]).sum()/len(imdb_df)"
   ]
  },
  {
   "cell_type": "code",
   "execution_count": 14,
   "metadata": {},
   "outputs": [
    {
     "data": {
      "text/plain": [
       "Counter({'movie': 43790,\n",
       "         'tv series': 1582,\n",
       "         'episode': 84070,\n",
       "         'tv mini series': 587,\n",
       "         'tv movie': 2769,\n",
       "         'tv short': 248,\n",
       "         'video movie': 1975,\n",
       "         'video game': 99})"
      ]
     },
     "execution_count": 14,
     "metadata": {},
     "output_type": "execute_result"
    }
   ],
   "source": [
    "Counter(imdb_df.imdb_kind.dropna())"
   ]
  },
  {
   "cell_type": "code",
   "execution_count": 41,
   "metadata": {},
   "outputs": [
    {
     "data": {
      "text/plain": [
       "0.6797640282608046"
      ]
     },
     "execution_count": 41,
     "metadata": {},
     "output_type": "execute_result"
    }
   ],
   "source": [
    "imdb_df.imdb_countries.str.contains(\"(United States)|(United Kingdom)\").sum()/imdb_df.imdb_countries.notna().sum()"
   ]
  },
  {
   "cell_type": "code",
   "execution_count": 21,
   "metadata": {},
   "outputs": [
    {
     "data": {
      "text/plain": [
       "0.26211414873748146"
      ]
     },
     "execution_count": 21,
     "metadata": {},
     "output_type": "execute_result"
    }
   ],
   "source": [
    "imdb_df.imdb_countries.isna().sum()/len(imdb_df)"
   ]
  },
  {
   "cell_type": "code",
   "execution_count": 25,
   "metadata": {},
   "outputs": [
    {
     "data": {
      "text/plain": [
       "0.7827723391891288"
      ]
     },
     "execution_count": 25,
     "metadata": {},
     "output_type": "execute_result"
    }
   ],
   "source": [
    "imdb_df.imdb_languages.str.contains(\"English\").sum()/imdb_df.imdb_languages.notna().sum()"
   ]
  },
  {
   "cell_type": "code",
   "execution_count": 26,
   "metadata": {},
   "outputs": [
    {
     "data": {
      "text/plain": [
       "Counter({'movie': 13257,\n",
       "         'tv mini series': 163,\n",
       "         'tv movie': 984,\n",
       "         'episode': 43320,\n",
       "         'video movie': 497,\n",
       "         'tv series': 613,\n",
       "         'video game': 10,\n",
       "         'tv short': 70})"
      ]
     },
     "execution_count": 26,
     "metadata": {},
     "output_type": "execute_result"
    }
   ],
   "source": [
    "Counter(imdb_df[(imdb_df.year >= 2010) & (imdb_df.year <= 2017)].imdb_kind.dropna())"
   ]
  },
  {
   "cell_type": "code",
   "execution_count": 27,
   "metadata": {},
   "outputs": [
    {
     "data": {
      "text/plain": [
       "3.2677076261597646"
      ]
     },
     "execution_count": 27,
     "metadata": {},
     "output_type": "execute_result"
    }
   ],
   "source": [
    "43320/13257"
   ]
  },
  {
   "cell_type": "code",
   "execution_count": 28,
   "metadata": {},
   "outputs": [],
   "source": [
    "imdb_genre = [genre for imdb_genre_str in imdb_df.imdb_genres.dropna() for genre in imdb_genre_str.split(\";\")]"
   ]
  },
  {
   "cell_type": "code",
   "execution_count": 29,
   "metadata": {},
   "outputs": [
    {
     "data": {
      "text/plain": [
       "Counter({'Comedy': 50868,\n",
       "         'Fantasy': 15538,\n",
       "         'Romance': 23314,\n",
       "         'Drama': 77460,\n",
       "         'War': 3942,\n",
       "         'History': 4871,\n",
       "         'Crime': 27053,\n",
       "         'Film-Noir': 172,\n",
       "         'Thriller': 26600,\n",
       "         'Action': 25562,\n",
       "         'Adventure': 19606,\n",
       "         'Family': 13000,\n",
       "         'Biography': 2724,\n",
       "         'Sport': 1674,\n",
       "         'Mystery': 24113,\n",
       "         'Musical': 1874,\n",
       "         'Western': 1766,\n",
       "         'Animation': 11726,\n",
       "         'Short': 3072,\n",
       "         'Documentary': 7099,\n",
       "         'Sci-Fi': 19219,\n",
       "         'Music': 3231,\n",
       "         'Horror': 10105,\n",
       "         'News': 401,\n",
       "         'Adult': 204,\n",
       "         'Talk-Show': 348,\n",
       "         'Reality-TV': 2361,\n",
       "         'Game-Show': 1441})"
      ]
     },
     "execution_count": 29,
     "metadata": {},
     "output_type": "execute_result"
    }
   ],
   "source": [
    "Counter(imdb_genre)"
   ]
  },
  {
   "cell_type": "code",
   "execution_count": 31,
   "metadata": {},
   "outputs": [],
   "source": [
    "genre_count, genre_ticks = [], []\n",
    "\n",
    "for genre, count in sorted(Counter(imdb_genre).items(), key=lambda x: x[1], reverse=True):\n",
    "    genre_count.append(count)\n",
    "    genre_ticks.append(genre)\n",
    "\n",
    "genre_ticks = [f\"{x:>10s}\" for x in genre_ticks]\n",
    "genre_axis = np.arange(len(genre_ticks))"
   ]
  },
  {
   "cell_type": "code",
   "execution_count": 34,
   "metadata": {},
   "outputs": [
    {
     "data": {
      "image/png": "[encoded data removed]",
      "text/plain": [
       "<Figure size 864x576 with 1 Axes>"
      ]
     },
     "metadata": {
      "needs_background": "light"
     },
     "output_type": "display_data"
    }
   ],
   "source": [
    "topk = 100\n",
    "\n",
    "plt.figure(figsize=(12, 8))\n",
    "plt.rcParams.update({\"font.size\":18})\n",
    "\n",
    "plt.bar(genre_axis[:topk], genre_count[:topk], width=0.6, color=\"seagreen\", label=\"genre\")\n",
    "plt.xticks(ticks=genre_axis[:topk], labels=genre_ticks[:topk], rotation=90)\n",
    "plt.legend(prop={\"size\":24})\n",
    "plt.ylabel(\"Count\")\n",
    "\n",
    "plt.show()"
   ]
  },
  {
   "cell_type": "code",
   "execution_count": 36,
   "metadata": {},
   "outputs": [
    {
     "data": {
      "text/plain": [
       "0.33828925724408454"
      ]
     },
     "execution_count": 36,
     "metadata": {},
     "output_type": "execute_result"
    }
   ],
   "source": [
    "sum(genre_count[:2])/sum(genre_count)"
   ]
  },
  {
   "cell_type": "code",
   "execution_count": 40,
   "metadata": {},
   "outputs": [
    {
     "data": {
      "text/plain": [
       "0.8080339416756128"
      ]
     },
     "execution_count": 40,
     "metadata": {},
     "output_type": "execute_result"
    }
   ],
   "source": [
    "imdb_df.imdb_genres.str.contains(r\"(Drama)|(Comedy)\").sum()/len(imdb_df)"
   ]
  },
  {
   "cell_type": "code",
   "execution_count": 42,
   "metadata": {},
   "outputs": [
    {
     "data": {
      "text/plain": [
       "(126834389, 942179585)"
      ]
     },
     "execution_count": 42,
     "metadata": {},
     "output_type": "execute_result"
    }
   ],
   "source": [
    "imdb_df.n_sentences.sum(), imdb_df.n_words.sum()"
   ]
  },
  {
   "cell_type": "code",
   "execution_count": 43,
   "metadata": {},
   "outputs": [
    {
     "data": {
      "text/plain": [
       "Index(['year', 'imdb_ID', 'xml_ID', 'n_sentences', 'n_words',\n",
       "       'n_sentences_title', 'imdb_year', 'imdb_genres', 'imdb_countries',\n",
       "       'imdb_kind', 'imdb_languages', 'imdb_title', 'first_imdb_country',\n",
       "       'first_imdb_language', '1_gram_count', '2_gram_count', '3_gram_count',\n",
       "       '4_gram_count', '5_gram_count'],\n",
       "      dtype='object')"
      ]
     },
     "execution_count": 43,
     "metadata": {},
     "output_type": "execute_result"
    }
   ],
   "source": [
    "imdb_df.columns"
   ]
  },
  {
   "cell_type": "code",
   "execution_count": 44,
   "metadata": {},
   "outputs": [
    {
     "data": {
      "text/plain": [
       "24143"
      ]
     },
     "execution_count": 44,
     "metadata": {},
     "output_type": "execute_result"
    }
   ],
   "source": [
    "imdb_df.first_imdb_language.isna().sum()"
   ]
  },
  {
   "cell_type": "code",
   "execution_count": 45,
   "metadata": {
    "collapsed": true,
    "jupyter": {
     "outputs_hidden": true
    }
   },
   "outputs": [
    {
     "data": {
      "text/plain": [
       "Counter({'English': 81950,\n",
       "         'German': 1464,\n",
       "         'Italian': 1903,\n",
       "         'French': 3929,\n",
       "         'Spanish': 2157,\n",
       "         'Japanese': 3902,\n",
       "         'Swedish': 730,\n",
       "         'Portuguese': 637,\n",
       "         'Danish': 651,\n",
       "         'Hindi': 1532,\n",
       "         'Slovenian': 42,\n",
       "         'Latin': 13,\n",
       "         'Czech': 389,\n",
       "         'Bengali': 80,\n",
       "         'Russian': 847,\n",
       "         'Finnish': 281,\n",
       "         'Polish': 476,\n",
       "         'Hungarian': 221,\n",
       "         'Serbo-Croatian': 158,\n",
       "         'Swiss German': 26,\n",
       "         'Georgian': 36,\n",
       "         'Romanian': 152,\n",
       "         'Greek': 2209,\n",
       "         'Ukrainian': 24,\n",
       "         'Norwegian': 403,\n",
       "         'Arabic': 168,\n",
       "         'Dutch': 510,\n",
       "         'Mandarin': 1008,\n",
       "         'Bulgarian': 50,\n",
       "         'Urdu': 25,\n",
       "         'Turkish': 381,\n",
       "         'None': 54,\n",
       "         'Hebrew': 237,\n",
       "         'Croatian': 47,\n",
       "         'Esperanto': 1,\n",
       "         'Slovak': 53,\n",
       "         'Kirghiz': 7,\n",
       "         'Persian': 131,\n",
       "         'Hausa': 1,\n",
       "         'Korean': 1468,\n",
       "         'Wolof': 9,\n",
       "         'Serbian': 122,\n",
       "         'Armenian': 6,\n",
       "         'Cantonese': 1156,\n",
       "         'Estonian': 54,\n",
       "         'Aboriginal': 8,\n",
       "         'Tupi': 2,\n",
       "         'Djerma': 1,\n",
       "         'Scots': 14,\n",
       "         'Filipino': 158,\n",
       "         'Bambara': 8,\n",
       "         'Kurdish': 18,\n",
       "         'Telugu': 261,\n",
       "         'Malayalam': 191,\n",
       "         'Scanian': 2,\n",
       "         'Sanskrit': 2,\n",
       "         'Albanian': 16,\n",
       "         'Hakka': 2,\n",
       "         'Icelandic': 88,\n",
       "         'Tamil': 261,\n",
       "         'Min Nan': 23,\n",
       "         'Belarusian': 3,\n",
       "         'Flemish': 36,\n",
       "         'Saami': 4,\n",
       "         'Azerbaijani': 1,\n",
       "         'Irish': 4,\n",
       "         'Chinese': 57,\n",
       "         'Faroese': 2,\n",
       "         'Romany': 3,\n",
       "         'Afrikaans': 15,\n",
       "         'Bosnian': 22,\n",
       "         'Indonesian': 52,\n",
       "         'Shanghainese': 2,\n",
       "         'More': 5,\n",
       "         'Vietnamese': 29,\n",
       "         'Catalan': 53,\n",
       "         'Cree': 1,\n",
       "         'Mongolian': 11,\n",
       "         'Latvian': 8,\n",
       "         'Kazakh': 12,\n",
       "         'Neapolitan': 3,\n",
       "         'Yiddish': 1,\n",
       "         'Khmer': 4,\n",
       "         'Thai': 399,\n",
       "         'Macedonian': 15,\n",
       "         'Kriolu': 1,\n",
       "         'Haitian': 3,\n",
       "         'Ryukyuan': 1,\n",
       "         'Sicilian': 2,\n",
       "         'Tajik': 1,\n",
       "         'Marathi': 19,\n",
       "         'Tibetan': 5,\n",
       "         'Malay': 26,\n",
       "         'Kannada': 53,\n",
       "         'American Sign Language': 6,\n",
       "         'Nenets': 1,\n",
       "         'Tagalog': 13,\n",
       "         'Yoruba': 2,\n",
       "         'Inuktitut': 4,\n",
       "         'Luxembourgish': 3,\n",
       "         'Kabuverdianu': 2,\n",
       "         'Lithuanian': 22,\n",
       "         'Nepali': 7,\n",
       "         'Punjabi': 47,\n",
       "         'Pushto': 2,\n",
       "         'Gallegan': 4,\n",
       "         'Chechen': 1,\n",
       "         'Aramaic': 2,\n",
       "         'Sinhalese': 5,\n",
       "         'Hokkien': 6,\n",
       "         'Hawaiian': 1,\n",
       "         'Dari': 7,\n",
       "         'Turkmen': 1,\n",
       "         'Dzongkha': 1,\n",
       "         'Sardinian': 1,\n",
       "         'Basque': 6,\n",
       "         'Zulu': 6,\n",
       "         'Dyula': 1,\n",
       "         'Xhosa': 2,\n",
       "         'Purepecha': 1,\n",
       "         'Russian Sign Language': 1,\n",
       "         'Maya': 3,\n",
       "         'Lao': 4,\n",
       "         'Guarani': 1,\n",
       "         'Sumerian': 1,\n",
       "         'Welsh': 18,\n",
       "         'Sindarin': 1,\n",
       "         'Sioux': 1,\n",
       "         'Tarahumara': 1,\n",
       "         'Low German': 1,\n",
       "         'Tswana': 2,\n",
       "         'Fur': 1,\n",
       "         'Uzbek': 1,\n",
       "         'Kinyarwanda': 1,\n",
       "         'Kru': 1,\n",
       "         'Brazilian Sign Language': 22,\n",
       "         'Inupiaq': 1,\n",
       "         'Amharic': 4,\n",
       "         'Hmong': 2,\n",
       "         'Klingon': 1,\n",
       "         'Cherokee': 1,\n",
       "         'Burmese': 4,\n",
       "         'East-Greenlandic': 1,\n",
       "         'Oriya': 2,\n",
       "         'Lingala': 2,\n",
       "         'North American Indian': 3,\n",
       "         'Sign Languages': 1,\n",
       "         'Southern Sotho': 1,\n",
       "         'Ukrainian Sign Language': 1,\n",
       "         'Samoan': 1,\n",
       "         'Swahili': 2,\n",
       "         'Karen': 1,\n",
       "         'Mari': 1,\n",
       "         'Gujarati': 1,\n",
       "         'Greenlandic': 1,\n",
       "         'Maori': 1,\n",
       "         'Yakut': 1})"
      ]
     },
     "execution_count": 45,
     "metadata": {},
     "output_type": "execute_result"
    }
   ],
   "source": [
    "Counter(imdb_df.first_imdb_language.dropna())"
   ]
  },
  {
   "cell_type": "code",
   "execution_count": 46,
   "metadata": {},
   "outputs": [
    {
     "data": {
      "text/plain": [
       "0.4831969961110366"
      ]
     },
     "execution_count": 46,
     "metadata": {},
     "output_type": "execute_result"
    }
   ],
   "source": [
    "(imdb_df.first_imdb_language != \"English\").sum()/imdb_df.first_imdb_language.notna().sum()"
   ]
  },
  {
   "cell_type": "code",
   "execution_count": 47,
   "metadata": {},
   "outputs": [
    {
     "name": "stderr",
     "output_type": "stream",
     "text": [
      "/home/sbaruah/.pyenv/versions/3.6.7/lib/python3.6/site-packages/IPython/core/interactiveshell.py:3063: DtypeWarning: Columns (17) have mixed types. Specify dtype option on import or set low_memory=False.\n",
      "  interactivity=interactivity, compiler=compiler, result=result)\n"
     ]
    }
   ],
   "source": [
    "mentions_df = pd.read_csv(\"data/mentions/mentions.word_filtered.sense_filtered.soc_mapped.merged.csv\", index_col=None)"
   ]
  },
  {
   "cell_type": "code",
   "execution_count": 48,
   "metadata": {},
   "outputs": [
    {
     "data": {
      "text/plain": [
       "Index(['profession', 'imdb', 'sent', 'rsi', 'left', 'mention', 'right',\n",
       "       'start', 'end', 'pos', 'ner', 'sense', 'no_pos_sense', 'is_profession',\n",
       "       'is_nopos_profession', 'is_person', 'profession_merge', 'soc_code',\n",
       "       'soc_name'],\n",
       "      dtype='object')"
      ]
     },
     "execution_count": 48,
     "metadata": {},
     "output_type": "execute_result"
    }
   ],
   "source": [
    "mentions_df.columns"
   ]
  },
  {
   "cell_type": "code",
   "execution_count": 49,
   "metadata": {},
   "outputs": [
    {
     "data": {
      "text/plain": [
       "4073"
      ]
     },
     "execution_count": 49,
     "metadata": {},
     "output_type": "execute_result"
    }
   ],
   "source": [
    "mentions_df.profession.unique().size"
   ]
  },
  {
   "cell_type": "code",
   "execution_count": 50,
   "metadata": {},
   "outputs": [
    {
     "data": {
      "text/plain": [
       "(3657827, 19)"
      ]
     },
     "execution_count": 50,
     "metadata": {},
     "output_type": "execute_result"
    }
   ],
   "source": [
    "mentions_df.shape"
   ]
  },
  {
   "cell_type": "code",
   "execution_count": 52,
   "metadata": {},
   "outputs": [
    {
     "data": {
      "text/plain": [
       "[Synset('bank.n.01'),\n",
       " Synset('depository_financial_institution.n.01'),\n",
       " Synset('bank.n.03'),\n",
       " Synset('bank.n.04'),\n",
       " Synset('bank.n.05'),\n",
       " Synset('bank.n.06'),\n",
       " Synset('bank.n.07'),\n",
       " Synset('savings_bank.n.02'),\n",
       " Synset('bank.n.09'),\n",
       " Synset('bank.n.10'),\n",
       " Synset('bank.v.01'),\n",
       " Synset('bank.v.02'),\n",
       " Synset('bank.v.03'),\n",
       " Synset('bank.v.04'),\n",
       " Synset('bank.v.05'),\n",
       " Synset('deposit.v.02'),\n",
       " Synset('bank.v.07'),\n",
       " Synset('trust.v.01')]"
      ]
     },
     "execution_count": 52,
     "metadata": {},
     "output_type": "execute_result"
    }
   ],
   "source": [
    "wn.synsets(\"bank\")"
   ]
  },
  {
   "cell_type": "code",
   "execution_count": null,
   "metadata": {},
   "outputs": [],
   "source": []
  }
 ],
 "metadata": {
  "kernelspec": {
   "display_name": "python3.6.7",
   "language": "python",
   "name": "python3.6.7"
  },
  "language_info": {
   "codemirror_mode": {
    "name": "ipython",
    "version": 3
   },
   "file_extension": ".py",
   "mimetype": "text/x-python",
   "name": "python",
   "nbconvert_exporter": "python",
   "pygments_lexer": "ipython3",
   "version": "3.6.7"
  }
 },
 "nbformat": 4,
 "nbformat_minor": 4
}
