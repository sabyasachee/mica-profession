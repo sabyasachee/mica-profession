{
 "cells": [
  {
   "cell_type": "code",
   "execution_count": 13,
   "metadata": {},
   "outputs": [],
   "source": [
    "import pandas as pd\n",
    "import numpy as np\n",
    "from scipy.stats import spearmanr\n",
    "from collections import defaultdict, Counter"
   ]
  },
  {
   "cell_type": "code",
   "execution_count": 2,
   "metadata": {},
   "outputs": [],
   "source": [
    "df = pd.read_csv(\"../data/analysis_data/top1000_merged_profession_frequency.csv\", index_col=None)"
   ]
  },
  {
   "cell_type": "code",
   "execution_count": 3,
   "metadata": {},
   "outputs": [
    {
     "data": {
      "text/plain": [
       "(1000, 69)"
      ]
     },
     "execution_count": 3,
     "metadata": {},
     "output_type": "execute_result"
    }
   ],
   "source": [
    "df.shape"
   ]
  },
  {
   "cell_type": "code",
   "execution_count": 4,
   "metadata": {},
   "outputs": [
    {
     "data": {
      "text/html": [
       "<div>\n",
       "<style scoped>\n",
       "    .dataframe tbody tr th:only-of-type {\n",
       "        vertical-align: middle;\n",
       "    }\n",
       "\n",
       "    .dataframe tbody tr th {\n",
       "        vertical-align: top;\n",
       "    }\n",
       "\n",
       "    .dataframe thead th {\n",
       "        text-align: right;\n",
       "    }\n",
       "</style>\n",
       "<table border=\"1\" class=\"dataframe\">\n",
       "  <thead>\n",
       "    <tr style=\"text-align: right;\">\n",
       "      <th></th>\n",
       "      <th>profession_merge</th>\n",
       "      <th>1950</th>\n",
       "      <th>1951</th>\n",
       "      <th>1952</th>\n",
       "      <th>1953</th>\n",
       "      <th>1954</th>\n",
       "      <th>1955</th>\n",
       "      <th>1956</th>\n",
       "      <th>1957</th>\n",
       "      <th>1958</th>\n",
       "      <th>...</th>\n",
       "      <th>2008</th>\n",
       "      <th>2009</th>\n",
       "      <th>2010</th>\n",
       "      <th>2011</th>\n",
       "      <th>2012</th>\n",
       "      <th>2013</th>\n",
       "      <th>2014</th>\n",
       "      <th>2015</th>\n",
       "      <th>2016</th>\n",
       "      <th>2017</th>\n",
       "    </tr>\n",
       "  </thead>\n",
       "  <tbody>\n",
       "    <tr>\n",
       "      <th>0</th>\n",
       "      <td>academician</td>\n",
       "      <td>0.000000</td>\n",
       "      <td>0.000000e+00</td>\n",
       "      <td>0.000000</td>\n",
       "      <td>0.000000e+00</td>\n",
       "      <td>0.000000</td>\n",
       "      <td>0.000000e+00</td>\n",
       "      <td>7.054062e-07</td>\n",
       "      <td>3.495716e-07</td>\n",
       "      <td>3.271536e-07</td>\n",
       "      <td>...</td>\n",
       "      <td>1.187437e-07</td>\n",
       "      <td>2.477584e-08</td>\n",
       "      <td>2.353053e-07</td>\n",
       "      <td>7.760025e-08</td>\n",
       "      <td>3.795555e-08</td>\n",
       "      <td>9.127312e-08</td>\n",
       "      <td>1.818845e-08</td>\n",
       "      <td>1.785370e-08</td>\n",
       "      <td>1.797955e-08</td>\n",
       "      <td>0.000000e+00</td>\n",
       "    </tr>\n",
       "    <tr>\n",
       "      <th>1</th>\n",
       "      <td>accountant</td>\n",
       "      <td>0.000014</td>\n",
       "      <td>2.912382e-06</td>\n",
       "      <td>0.000008</td>\n",
       "      <td>2.953883e-06</td>\n",
       "      <td>0.000004</td>\n",
       "      <td>2.389870e-06</td>\n",
       "      <td>1.199190e-05</td>\n",
       "      <td>1.118629e-05</td>\n",
       "      <td>5.234458e-06</td>\n",
       "      <td>...</td>\n",
       "      <td>5.670011e-06</td>\n",
       "      <td>5.475462e-06</td>\n",
       "      <td>4.684715e-06</td>\n",
       "      <td>6.246820e-06</td>\n",
       "      <td>5.750266e-06</td>\n",
       "      <td>5.348605e-06</td>\n",
       "      <td>4.947257e-06</td>\n",
       "      <td>4.641961e-06</td>\n",
       "      <td>6.724351e-06</td>\n",
       "      <td>4.120042e-06</td>\n",
       "    </tr>\n",
       "    <tr>\n",
       "      <th>2</th>\n",
       "      <td>acolyte</td>\n",
       "      <td>0.000000</td>\n",
       "      <td>0.000000e+00</td>\n",
       "      <td>0.000000</td>\n",
       "      <td>0.000000e+00</td>\n",
       "      <td>0.000000</td>\n",
       "      <td>0.000000e+00</td>\n",
       "      <td>0.000000e+00</td>\n",
       "      <td>0.000000e+00</td>\n",
       "      <td>6.543072e-07</td>\n",
       "      <td>...</td>\n",
       "      <td>2.374874e-07</td>\n",
       "      <td>2.973101e-07</td>\n",
       "      <td>4.706107e-07</td>\n",
       "      <td>2.716009e-07</td>\n",
       "      <td>2.277333e-07</td>\n",
       "      <td>2.008009e-07</td>\n",
       "      <td>7.639147e-07</td>\n",
       "      <td>3.213666e-07</td>\n",
       "      <td>3.416114e-07</td>\n",
       "      <td>6.699255e-07</td>\n",
       "    </tr>\n",
       "    <tr>\n",
       "      <th>3</th>\n",
       "      <td>acrobat</td>\n",
       "      <td>0.000005</td>\n",
       "      <td>4.853971e-07</td>\n",
       "      <td>0.000002</td>\n",
       "      <td>9.846275e-07</td>\n",
       "      <td>0.000002</td>\n",
       "      <td>6.828201e-07</td>\n",
       "      <td>1.410812e-06</td>\n",
       "      <td>6.292289e-06</td>\n",
       "      <td>3.271536e-06</td>\n",
       "      <td>...</td>\n",
       "      <td>8.015198e-07</td>\n",
       "      <td>3.716377e-07</td>\n",
       "      <td>6.417418e-07</td>\n",
       "      <td>4.656015e-07</td>\n",
       "      <td>5.124000e-07</td>\n",
       "      <td>3.650925e-07</td>\n",
       "      <td>6.184072e-07</td>\n",
       "      <td>7.320016e-07</td>\n",
       "      <td>4.854478e-07</td>\n",
       "      <td>7.704143e-07</td>\n",
       "    </tr>\n",
       "    <tr>\n",
       "      <th>4</th>\n",
       "      <td>actor</td>\n",
       "      <td>0.000030</td>\n",
       "      <td>2.329906e-05</td>\n",
       "      <td>0.000041</td>\n",
       "      <td>3.544659e-05</td>\n",
       "      <td>0.000033</td>\n",
       "      <td>1.707050e-05</td>\n",
       "      <td>2.116218e-05</td>\n",
       "      <td>3.950159e-05</td>\n",
       "      <td>2.878952e-05</td>\n",
       "      <td>...</td>\n",
       "      <td>2.977498e-05</td>\n",
       "      <td>3.017698e-05</td>\n",
       "      <td>2.708150e-05</td>\n",
       "      <td>2.692729e-05</td>\n",
       "      <td>2.856155e-05</td>\n",
       "      <td>2.893358e-05</td>\n",
       "      <td>2.731905e-05</td>\n",
       "      <td>2.754826e-05</td>\n",
       "      <td>3.315429e-05</td>\n",
       "      <td>2.003077e-05</td>\n",
       "    </tr>\n",
       "  </tbody>\n",
       "</table>\n",
       "<p>5 rows × 69 columns</p>\n",
       "</div>"
      ],
      "text/plain": [
       "  profession_merge      1950          1951      1952          1953      1954  \\\n",
       "0      academician  0.000000  0.000000e+00  0.000000  0.000000e+00  0.000000   \n",
       "1       accountant  0.000014  2.912382e-06  0.000008  2.953883e-06  0.000004   \n",
       "2          acolyte  0.000000  0.000000e+00  0.000000  0.000000e+00  0.000000   \n",
       "3          acrobat  0.000005  4.853971e-07  0.000002  9.846275e-07  0.000002   \n",
       "4            actor  0.000030  2.329906e-05  0.000041  3.544659e-05  0.000033   \n",
       "\n",
       "           1955          1956          1957          1958  ...          2008  \\\n",
       "0  0.000000e+00  7.054062e-07  3.495716e-07  3.271536e-07  ...  1.187437e-07   \n",
       "1  2.389870e-06  1.199190e-05  1.118629e-05  5.234458e-06  ...  5.670011e-06   \n",
       "2  0.000000e+00  0.000000e+00  0.000000e+00  6.543072e-07  ...  2.374874e-07   \n",
       "3  6.828201e-07  1.410812e-06  6.292289e-06  3.271536e-06  ...  8.015198e-07   \n",
       "4  1.707050e-05  2.116218e-05  3.950159e-05  2.878952e-05  ...  2.977498e-05   \n",
       "\n",
       "           2009          2010          2011          2012          2013  \\\n",
       "0  2.477584e-08  2.353053e-07  7.760025e-08  3.795555e-08  9.127312e-08   \n",
       "1  5.475462e-06  4.684715e-06  6.246820e-06  5.750266e-06  5.348605e-06   \n",
       "2  2.973101e-07  4.706107e-07  2.716009e-07  2.277333e-07  2.008009e-07   \n",
       "3  3.716377e-07  6.417418e-07  4.656015e-07  5.124000e-07  3.650925e-07   \n",
       "4  3.017698e-05  2.708150e-05  2.692729e-05  2.856155e-05  2.893358e-05   \n",
       "\n",
       "           2014          2015          2016          2017  \n",
       "0  1.818845e-08  1.785370e-08  1.797955e-08  0.000000e+00  \n",
       "1  4.947257e-06  4.641961e-06  6.724351e-06  4.120042e-06  \n",
       "2  7.639147e-07  3.213666e-07  3.416114e-07  6.699255e-07  \n",
       "3  6.184072e-07  7.320016e-07  4.854478e-07  7.704143e-07  \n",
       "4  2.731905e-05  2.754826e-05  3.315429e-05  2.003077e-05  \n",
       "\n",
       "[5 rows x 69 columns]"
      ]
     },
     "execution_count": 4,
     "metadata": {},
     "output_type": "execute_result"
    }
   ],
   "source": [
    "df.head()"
   ]
  },
  {
   "cell_type": "code",
   "execution_count": 5,
   "metadata": {},
   "outputs": [],
   "source": [
    "df[\"spearman\"] = df.apply(lambda x: x[1:].sum(), axis=1)"
   ]
  },
  {
   "cell_type": "code",
   "execution_count": 9,
   "metadata": {},
   "outputs": [],
   "source": [
    "def trend(x):\n",
    "    res = spearmanr(x[1:-1], np.arange(1950, 2018))\n",
    "    if res.pvalue < 0.05:\n",
    "        return res.correlation > 0\n",
    "    else:\n",
    "        return None"
   ]
  },
  {
   "cell_type": "code",
   "execution_count": 10,
   "metadata": {},
   "outputs": [],
   "source": [
    "df[\"spearman\"] = df.apply(trend, axis=1)"
   ]
  },
  {
   "cell_type": "code",
   "execution_count": 14,
   "metadata": {},
   "outputs": [
    {
     "data": {
      "text/plain": [
       "Counter({None: 348, True: 452, False: 200})"
      ]
     },
     "execution_count": 14,
     "metadata": {},
     "output_type": "execute_result"
    }
   ],
   "source": [
    "Counter(df[\"spearman\"])"
   ]
  },
  {
   "cell_type": "code",
   "execution_count": 15,
   "metadata": {},
   "outputs": [],
   "source": [
    "df.to_csv(\"../data/analysis_data/top1000_merged_profession_frequency_with_trend.csv\", index=False)"
   ]
  },
  {
   "cell_type": "code",
   "execution_count": 16,
   "metadata": {},
   "outputs": [],
   "source": [
    "sentiment_df = pd.read_csv(\"../data/analysis_data/top500_merged_profession_sentiment.csv\", index_col=None)"
   ]
  },
  {
   "cell_type": "code",
   "execution_count": 17,
   "metadata": {},
   "outputs": [
    {
     "data": {
      "text/plain": [
       "(102000, 4)"
      ]
     },
     "execution_count": 17,
     "metadata": {},
     "output_type": "execute_result"
    }
   ],
   "source": [
    "sentiment_df.shape"
   ]
  },
  {
   "cell_type": "code",
   "execution_count": 18,
   "metadata": {},
   "outputs": [
    {
     "data": {
      "text/html": [
       "<div>\n",
       "<style scoped>\n",
       "    .dataframe tbody tr th:only-of-type {\n",
       "        vertical-align: middle;\n",
       "    }\n",
       "\n",
       "    .dataframe tbody tr th {\n",
       "        vertical-align: top;\n",
       "    }\n",
       "\n",
       "    .dataframe thead th {\n",
       "        text-align: right;\n",
       "    }\n",
       "</style>\n",
       "<table border=\"1\" class=\"dataframe\">\n",
       "  <thead>\n",
       "    <tr style=\"text-align: right;\">\n",
       "      <th></th>\n",
       "      <th>profession</th>\n",
       "      <th>year</th>\n",
       "      <th>sentiment</th>\n",
       "      <th>imdb</th>\n",
       "    </tr>\n",
       "  </thead>\n",
       "  <tbody>\n",
       "    <tr>\n",
       "      <th>0</th>\n",
       "      <td>doctor</td>\n",
       "      <td>1950</td>\n",
       "      <td>-1</td>\n",
       "      <td>31</td>\n",
       "    </tr>\n",
       "    <tr>\n",
       "      <th>1</th>\n",
       "      <td>doctor</td>\n",
       "      <td>1950</td>\n",
       "      <td>0</td>\n",
       "      <td>1398</td>\n",
       "    </tr>\n",
       "    <tr>\n",
       "      <th>2</th>\n",
       "      <td>doctor</td>\n",
       "      <td>1950</td>\n",
       "      <td>1</td>\n",
       "      <td>112</td>\n",
       "    </tr>\n",
       "    <tr>\n",
       "      <th>3</th>\n",
       "      <td>doctor</td>\n",
       "      <td>1951</td>\n",
       "      <td>-1</td>\n",
       "      <td>19</td>\n",
       "    </tr>\n",
       "    <tr>\n",
       "      <th>4</th>\n",
       "      <td>doctor</td>\n",
       "      <td>1951</td>\n",
       "      <td>0</td>\n",
       "      <td>1209</td>\n",
       "    </tr>\n",
       "  </tbody>\n",
       "</table>\n",
       "</div>"
      ],
      "text/plain": [
       "  profession  year  sentiment  imdb\n",
       "0     doctor  1950         -1    31\n",
       "1     doctor  1950          0  1398\n",
       "2     doctor  1950          1   112\n",
       "3     doctor  1951         -1    19\n",
       "4     doctor  1951          0  1209"
      ]
     },
     "execution_count": 18,
     "metadata": {},
     "output_type": "execute_result"
    }
   ],
   "source": [
    "sentiment_df.head()"
   ]
  },
  {
   "cell_type": "code",
   "execution_count": 19,
   "metadata": {},
   "outputs": [],
   "source": [
    "records = []\n",
    "\n",
    "for profession, pdf in sentiment_df.groupby(\"profession\"):\n",
    "    record = [profession]\n",
    "    for year, ydf in pdf.groupby(\"year\"):\n",
    "        values = ydf[\"imdb\"].values\n",
    "        pos = values[2]\n",
    "        neg = values[0]\n",
    "        sentiment = pos / (pos + neg + 1e-23)\n",
    "        record.append(sentiment)\n",
    "    records.append(record)"
   ]
  },
  {
   "cell_type": "code",
   "execution_count": 20,
   "metadata": {},
   "outputs": [],
   "source": [
    "sdf = pd.DataFrame(records, columns=[\"profession\"] + np.arange(1950, 2018).astype(str).tolist())"
   ]
  },
  {
   "cell_type": "code",
   "execution_count": 22,
   "metadata": {},
   "outputs": [],
   "source": [
    "sdf.to_csv(\"../data/analysis_data/top500_merged_profession_sentiment_trend.csv\", index=False)"
   ]
  },
  {
   "cell_type": "code",
   "execution_count": null,
   "metadata": {},
   "outputs": [],
   "source": []
  }
 ],
 "metadata": {
  "interpreter": {
   "hash": "aa4c5d0af4f2fbdcdb614f89cfa90bde0c90d4aeac4e67516f57a0acce9bcca1"
  },
  "kernelspec": {
   "display_name": "Python 3.8.8 64-bit ('base': conda)",
   "name": "python3"
  },
  "language_info": {
   "codemirror_mode": {
    "name": "ipython",
    "version": 3
   },
   "file_extension": ".py",
   "mimetype": "text/x-python",
   "name": "python",
   "nbconvert_exporter": "python",
   "pygments_lexer": "ipython3",
   "version": "3.8.8"
  },
  "orig_nbformat": 4
 },
 "nbformat": 4,
 "nbformat_minor": 2
}
