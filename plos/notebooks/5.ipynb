{
 "cells": [
  {
   "cell_type": "code",
   "execution_count": 122,
   "metadata": {},
   "outputs": [],
   "source": [
    "import pandas as pd\n",
    "import numpy as np\n",
    "import matplotlib.pyplot as plt\n",
    "import scipy.stats\n",
    "import statsmodels.stats.proportion\n",
    "import tikzplotlib\n",
    "import re"
   ]
  },
  {
   "cell_type": "code",
   "execution_count": 5,
   "metadata": {},
   "outputs": [],
   "source": [
    "profession_sentiment_df = pd.read_csv('data/analysis_data/top500_merged_profession_sentiment.csv', index_col=[0,1,2])"
   ]
  },
  {
   "cell_type": "code",
   "execution_count": 6,
   "metadata": {},
   "outputs": [
    {
     "data": {
      "text/html": [
       "<div>\n",
       "<style scoped>\n",
       "    .dataframe tbody tr th:only-of-type {\n",
       "        vertical-align: middle;\n",
       "    }\n",
       "\n",
       "    .dataframe tbody tr th {\n",
       "        vertical-align: top;\n",
       "    }\n",
       "\n",
       "    .dataframe thead th {\n",
       "        text-align: right;\n",
       "    }\n",
       "</style>\n",
       "<table border=\"1\" class=\"dataframe\">\n",
       "  <thead>\n",
       "    <tr style=\"text-align: right;\">\n",
       "      <th></th>\n",
       "      <th></th>\n",
       "      <th></th>\n",
       "      <th>imdb</th>\n",
       "    </tr>\n",
       "    <tr>\n",
       "      <th>profession</th>\n",
       "      <th>year</th>\n",
       "      <th>sentiment</th>\n",
       "      <th></th>\n",
       "    </tr>\n",
       "  </thead>\n",
       "  <tbody>\n",
       "    <tr>\n",
       "      <th rowspan=\"5\" valign=\"top\">doctor</th>\n",
       "      <th rowspan=\"3\" valign=\"top\">1950</th>\n",
       "      <th>-1</th>\n",
       "      <td>31</td>\n",
       "    </tr>\n",
       "    <tr>\n",
       "      <th>0</th>\n",
       "      <td>1398</td>\n",
       "    </tr>\n",
       "    <tr>\n",
       "      <th>1</th>\n",
       "      <td>112</td>\n",
       "    </tr>\n",
       "    <tr>\n",
       "      <th rowspan=\"2\" valign=\"top\">1951</th>\n",
       "      <th>-1</th>\n",
       "      <td>19</td>\n",
       "    </tr>\n",
       "    <tr>\n",
       "      <th>0</th>\n",
       "      <td>1209</td>\n",
       "    </tr>\n",
       "    <tr>\n",
       "      <th>...</th>\n",
       "      <th>...</th>\n",
       "      <th>...</th>\n",
       "      <td>...</td>\n",
       "    </tr>\n",
       "    <tr>\n",
       "      <th rowspan=\"5\" valign=\"top\">sketch artist</th>\n",
       "      <th rowspan=\"2\" valign=\"top\">2016</th>\n",
       "      <th>0</th>\n",
       "      <td>35</td>\n",
       "    </tr>\n",
       "    <tr>\n",
       "      <th>1</th>\n",
       "      <td>2</td>\n",
       "    </tr>\n",
       "    <tr>\n",
       "      <th rowspan=\"3\" valign=\"top\">2017</th>\n",
       "      <th>-1</th>\n",
       "      <td>0</td>\n",
       "    </tr>\n",
       "    <tr>\n",
       "      <th>0</th>\n",
       "      <td>13</td>\n",
       "    </tr>\n",
       "    <tr>\n",
       "      <th>1</th>\n",
       "      <td>3</td>\n",
       "    </tr>\n",
       "  </tbody>\n",
       "</table>\n",
       "<p>102000 rows × 1 columns</p>\n",
       "</div>"
      ],
      "text/plain": [
       "                              imdb\n",
       "profession    year sentiment      \n",
       "doctor        1950 -1           31\n",
       "                    0         1398\n",
       "                    1          112\n",
       "              1951 -1           19\n",
       "                    0         1209\n",
       "...                            ...\n",
       "sketch artist 2016  0           35\n",
       "                    1            2\n",
       "              2017 -1            0\n",
       "                    0           13\n",
       "                    1            3\n",
       "\n",
       "[102000 rows x 1 columns]"
      ]
     },
     "execution_count": 6,
     "metadata": {},
     "output_type": "execute_result"
    }
   ],
   "source": [
    "profession_sentiment_df"
   ]
  },
  {
   "cell_type": "code",
   "execution_count": 7,
   "metadata": {},
   "outputs": [],
   "source": [
    "professions = profession_sentiment_df.index.get_level_values(level='profession').unique()"
   ]
  },
  {
   "cell_type": "code",
   "execution_count": 8,
   "metadata": {},
   "outputs": [
    {
     "data": {
      "text/plain": [
       "500"
      ]
     },
     "execution_count": 8,
     "metadata": {},
     "output_type": "execute_result"
    }
   ],
   "source": [
    "len(professions)"
   ]
  },
  {
   "cell_type": "code",
   "execution_count": 14,
   "metadata": {},
   "outputs": [],
   "source": [
    "srs = profession_sentiment_df.loc[('doctor',slice(None),1),:].droplevel(['profession','sentiment'])"
   ]
  },
  {
   "cell_type": "code",
   "execution_count": 20,
   "metadata": {},
   "outputs": [
    {
     "data": {
      "text/html": [
       "<div>\n",
       "<style scoped>\n",
       "    .dataframe tbody tr th:only-of-type {\n",
       "        vertical-align: middle;\n",
       "    }\n",
       "\n",
       "    .dataframe tbody tr th {\n",
       "        vertical-align: top;\n",
       "    }\n",
       "\n",
       "    .dataframe thead th {\n",
       "        text-align: right;\n",
       "    }\n",
       "</style>\n",
       "<table border=\"1\" class=\"dataframe\">\n",
       "  <thead>\n",
       "    <tr style=\"text-align: right;\">\n",
       "      <th></th>\n",
       "      <th>imdb</th>\n",
       "    </tr>\n",
       "    <tr>\n",
       "      <th>year</th>\n",
       "      <th></th>\n",
       "    </tr>\n",
       "  </thead>\n",
       "  <tbody>\n",
       "    <tr>\n",
       "      <th>1950</th>\n",
       "      <td>112</td>\n",
       "    </tr>\n",
       "    <tr>\n",
       "      <th>1951</th>\n",
       "      <td>110</td>\n",
       "    </tr>\n",
       "    <tr>\n",
       "      <th>1952</th>\n",
       "      <td>76</td>\n",
       "    </tr>\n",
       "    <tr>\n",
       "      <th>1953</th>\n",
       "      <td>99</td>\n",
       "    </tr>\n",
       "    <tr>\n",
       "      <th>1954</th>\n",
       "      <td>85</td>\n",
       "    </tr>\n",
       "    <tr>\n",
       "      <th>1955</th>\n",
       "      <td>123</td>\n",
       "    </tr>\n",
       "    <tr>\n",
       "      <th>1956</th>\n",
       "      <td>106</td>\n",
       "    </tr>\n",
       "    <tr>\n",
       "      <th>1957</th>\n",
       "      <td>137</td>\n",
       "    </tr>\n",
       "    <tr>\n",
       "      <th>1958</th>\n",
       "      <td>139</td>\n",
       "    </tr>\n",
       "    <tr>\n",
       "      <th>1959</th>\n",
       "      <td>146</td>\n",
       "    </tr>\n",
       "    <tr>\n",
       "      <th>1960</th>\n",
       "      <td>124</td>\n",
       "    </tr>\n",
       "  </tbody>\n",
       "</table>\n",
       "</div>"
      ],
      "text/plain": [
       "      imdb\n",
       "year      \n",
       "1950   112\n",
       "1951   110\n",
       "1952    76\n",
       "1953    99\n",
       "1954    85\n",
       "1955   123\n",
       "1956   106\n",
       "1957   137\n",
       "1958   139\n",
       "1959   146\n",
       "1960   124"
      ]
     },
     "execution_count": 20,
     "metadata": {},
     "output_type": "execute_result"
    }
   ],
   "source": [
    "srs.loc[1950:1960]"
   ]
  },
  {
   "cell_type": "code",
   "execution_count": 24,
   "metadata": {},
   "outputs": [
    {
     "data": {
      "text/plain": [
       "30139"
      ]
     },
     "execution_count": 24,
     "metadata": {},
     "output_type": "execute_result"
    }
   ],
   "source": [
    "srs.sum()[0]"
   ]
  },
  {
   "cell_type": "code",
   "execution_count": 28,
   "metadata": {},
   "outputs": [
    {
     "ename": "SyntaxError",
     "evalue": "invalid syntax (<ipython-input-28-ceb6912b362b>, line 1)",
     "output_type": "error",
     "traceback": [
      "\u001b[0;36m  File \u001b[0;32m\"<ipython-input-28-ceb6912b362b>\"\u001b[0;36m, line \u001b[0;32m1\u001b[0m\n\u001b[0;31m    profession_sentiment_df.loc[('doctor',slice(1950:1960),1),:]\u001b[0m\n\u001b[0m                                                    ^\u001b[0m\n\u001b[0;31mSyntaxError\u001b[0m\u001b[0;31m:\u001b[0m invalid syntax\n"
     ]
    }
   ],
   "source": [
    "profession_sentiment_df.loc[('doctor',slice(1950:1960),1),:]"
   ]
  },
  {
   "cell_type": "code",
   "execution_count": 51,
   "metadata": {},
   "outputs": [
    {
     "name": "stderr",
     "output_type": "stream",
     "text": [
      "/home/sbaruah/.pyenv/versions/3.6.7/lib/python3.6/site-packages/ipykernel_launcher.py:20: RuntimeWarning: invalid value encountered in long_scalars\n",
      "/home/sbaruah/.pyenv/versions/3.6.7/lib/python3.6/site-packages/ipykernel_launcher.py:25: RuntimeWarning: invalid value encountered in long_scalars\n"
     ]
    }
   ],
   "source": [
    "records = []\n",
    "\n",
    "for profession in professions:\n",
    "    record = [profession]\n",
    "    pos = profession_sentiment_df.loc[(profession, slice(None), 1),:].droplevel(['profession','sentiment'])\n",
    "    neg = profession_sentiment_df.loc[(profession, slice(None), -1),:].droplevel(['profession','sentiment'])\n",
    "    \n",
    "#     proportion\n",
    "    n, N = pos.sum()[0], pos.sum()[0] + neg.sum()[0]\n",
    "    p = n/N\n",
    "    _, pvalue = statsmodels.stats.proportion.proportions_ztest(n, N, value=0.5, alternative='two-sided')\n",
    "    record += [p, pvalue]\n",
    "    \n",
    "    n, N = pos.loc[2010:2017].sum()[0], pos.loc[2010:2017].sum()[0] + neg.loc[2010:2017].sum()[0]\n",
    "    p = n/N\n",
    "    _, pvalue = statsmodels.stats.proportion.proportions_ztest(n, N, value=0.5, alternative='two-sided')\n",
    "    record += [p, pvalue]\n",
    "    \n",
    "    n, N = pos.loc[2000:2009].sum()[0], pos.loc[2000:2009].sum()[0] + neg.loc[2000:2009].sum()[0]\n",
    "    p = n/N\n",
    "    _, pvalue = statsmodels.stats.proportion.proportions_ztest(n, N, value=0.5, alternative='two-sided')\n",
    "    record += [p, pvalue]\n",
    "    \n",
    "    n, N = pos.loc[1990:1999].sum()[0], pos.loc[1990:1999].sum()[0] + neg.loc[1990:1999].sum()[0]\n",
    "    p = n/N\n",
    "    _, pvalue = statsmodels.stats.proportion.proportions_ztest(n, N, value=0.5, alternative='two-sided')\n",
    "    record += [p, pvalue]\n",
    "    \n",
    "#     correlation\n",
    "    x = pos.values.flatten()/(pos.values.flatten() + neg.values.flatten() + 1e-23)\n",
    "    t = np.arange(68)\n",
    "    corr, pvalue = scipy.stats.spearmanr(t, x)\n",
    "    record += [corr, pvalue]\n",
    "    \n",
    "    x = pos.loc[2010:2017].values.flatten()/(pos.loc[2010:2017].values.flatten() + neg.loc[2010:2017].values.flatten() + 1e-23)\n",
    "    t = np.arange(8)\n",
    "    corr, pvalue = scipy.stats.spearmanr(t, x)\n",
    "    record += [corr, pvalue]\n",
    "    \n",
    "    x = pos.loc[2000:2009].values.flatten()/(pos.loc[2000:2009].values.flatten() + neg.loc[2000:2009].values.flatten() + 1e-23)\n",
    "    t = np.arange(10)\n",
    "    corr, pvalue = scipy.stats.spearmanr(t, x)\n",
    "    record += [corr, pvalue]\n",
    "    \n",
    "    x = pos.loc[1990:1999].values.flatten()/(pos.loc[1990:1999].values.flatten() + neg.loc[1990:1999].values.flatten() + 1e-23)\n",
    "    corr, pvalue = scipy.stats.spearmanr(t, x)\n",
    "    record += [corr, pvalue]\n",
    "    \n",
    "    records.append(record)\n",
    "    \n",
    "sentiment_df = pd.DataFrame(records, columns=['profession','prop','pval','prop_2010_2017','pval_2010_2017','prop_2000_2009','pval_2000_2009','prop_1990_1999','pval_1990_1999','corr','corr_pval','corr_2010_2017','corr_pval_2010_2017','corr_2000_2009','corr_pval_2000_2009','corr_1990_1999','corr_pval_1990_1999'])"
   ]
  },
  {
   "cell_type": "code",
   "execution_count": 77,
   "metadata": {},
   "outputs": [
    {
     "name": "stdout",
     "output_type": "stream",
     "text": [
      "cop                                                idx=  4\tprop=0.32\n",
      "dealer                                             idx= 75\tprop=0.37\n",
      "police                                             idx=  2\tprop=0.38\n",
      "spy                                                idx= 39\tprop=0.42\n",
      "nun                                                idx= 79\tprop=0.43\n",
      "monk                                               idx= 57\tprop=0.44\n",
      "guard                                              idx= 18\tprop=0.45\n",
      "maid                                               idx= 45\tprop=0.53\n",
      "clerk                                              idx= 91\tprop=0.54\n",
      "nanny                                              idx= 73\tprop=0.56\n",
      "cowboy                                             idx= 60\tprop=0.58\n",
      "sheriff                                            idx= 27\tprop=0.60\n",
      "principal                                          idx= 62\tprop=0.61\n",
      "therapist                                          idx= 81\tprop=0.62\n",
      "reporter                                           idx= 36\tprop=0.63\n",
      "prosecutor                                         idx= 61\tprop=0.64\n",
      "merchant                                           idx= 99\tprop=0.64\n",
      "salesman                                           idx=100\tprop=0.65\n",
      "sailor                                             idx= 67\tprop=0.65\n",
      "manager                                            idx= 20\tprop=0.65\n",
      "district attorney                                  idx= 24\tprop=0.65\n",
      "police officer                                     idx= 53\tprop=0.65\n",
      "nurse                                              idx= 23\tprop=0.66\n",
      "ranger                                             idx= 58\tprop=0.66\n",
      "lawyer                                             idx=  9\tprop=0.67\n",
      "bodyguard                                          idx= 94\tprop=0.67\n",
      "scout                                              idx= 78\tprop=0.68\n",
      "journalist                                         idx= 59\tprop=0.68\n",
      "marine                                             idx= 77\tprop=0.68\n",
      "deputy                                             idx= 47\tprop=0.68\n",
      "messenger                                          idx= 90\tprop=0.69\n",
      "commissioner                                       idx= 48\tprop=0.70\n",
      "teacher                                            idx=  8\tprop=0.70\n",
      "judge                                              idx= 15\tprop=0.71\n",
      "secretary                                          idx= 32\tprop=0.71\n",
      "psychiatrist                                       idx= 86\tprop=0.71\n",
      "mayor                                              idx= 30\tprop=0.71\n",
      "bishop                                             idx= 76\tprop=0.72\n",
      "attorney                                           idx= 33\tprop=0.73\n",
      "marshall                                           idx= 70\tprop=0.73\n",
      "minister                                           idx= 22\tprop=0.73\n",
      "soldier                                            idx= 10\tprop=0.74\n",
      "inspector                                          idx= 21\tprop=0.74\n",
      "operator                                           idx= 85\tprop=0.75\n",
      "governor                                           idx= 37\tprop=0.75\n",
      "sergeant                                           idx= 16\tprop=0.75\n",
      "counsellor                                         idx= 71\tprop=0.75\n",
      "officer                                            idx=  5\tprop=0.75\n",
      "scientist                                          idx= 34\tprop=0.76\n",
      "mechanic                                           idx= 95\tprop=0.76\n",
      "baker                                              idx= 97\tprop=0.76\n",
      "bobby                                              idx= 49\tprop=0.76\n",
      "editor                                             idx= 63\tprop=0.76\n",
      "constable                                          idx= 83\tprop=0.77\n",
      "doctor                                             idx=  1\tprop=0.77\n",
      "detective                                          idx=  7\tprop=0.77\n",
      "professor                                          idx= 13\tprop=0.78\n",
      "magician                                           idx= 96\tprop=0.78\n",
      "corporal                                           idx= 88\tprop=0.78\n",
      "investigator                                       idx= 80\tprop=0.78\n",
      "senator                                            idx= 41\tprop=0.78\n",
      "hunter                                             idx= 40\tprop=0.79\n",
      "shepherd                                           idx= 98\tprop=0.79\n",
      "captain                                            idx=  3\tprop=0.79\n",
      "coach                                              idx= 25\tprop=0.79\n",
      "general                                            idx= 11\tprop=0.80\n",
      "producer                                           idx= 50\tprop=0.80\n",
      "director                                           idx= 14\tprop=0.80\n",
      "cook                                               idx= 56\tprop=0.81\n",
      "major                                              idx= 31\tprop=0.81\n",
      "lieutenant                                         idx= 12\tprop=0.81\n",
      "artist                                             idx= 19\tprop=0.82\n",
      "writer                                             idx= 35\tprop=0.82\n",
      "actor                                              idx= 28\tprop=0.82\n",
      "president                                          idx=  6\tprop=0.82\n",
      "pilot                                              idx= 38\tprop=0.83\n",
      "photographer                                       idx= 72\tprop=0.83\n",
      "chairman                                           idx= 54\tprop=0.83\n",
      "commander                                          idx= 17\tprop=0.83\n",
      "reverend                                           idx= 82\tprop=0.84\n",
      "painter                                            idx= 84\tprop=0.84\n",
      "admiral                                            idx= 64\tprop=0.84\n",
      "poet                                               idx= 66\tprop=0.85\n",
      "actress                                            idx= 55\tprop=0.85\n",
      "engineer                                           idx= 51\tprop=0.85\n",
      "dancer                                             idx= 46\tprop=0.86\n",
      "ambassador                                         idx= 68\tprop=0.86\n",
      "musician                                           idx= 69\tprop=0.86\n",
      "surgeon                                            idx= 52\tprop=0.86\n",
      "singer                                             idx= 42\tprop=0.89\n",
      "designer                                           idx= 65\tprop=0.91\n",
      "chef                                               idx= 26\tprop=0.91\n",
      "author                                             idx= 92\tprop=0.91\n",
      "astronaut                                          idx= 89\tprop=0.92\n"
     ]
    }
   ],
   "source": [
    "for _, row in sentiment_df[sentiment_df.pval < 0.05].sort_values(by='prop')[['profession','prop','pval']].iterrows():\n",
    "    idx = professions.to_list().index(row.profession)\n",
    "    if idx < 100:\n",
    "        print(f'{row.profession:50s} idx={idx + 1:3d}\\tprop={row.prop:.2f}')"
   ]
  },
  {
   "cell_type": "code",
   "execution_count": 81,
   "metadata": {},
   "outputs": [
    {
     "name": "stdout",
     "output_type": "stream",
     "text": [
      "doctor                                             idx=  1\tcorr=-0.62\n",
      "lawyer                                             idx=  9\tcorr=-0.51\n",
      "professor                                          idx= 13\tcorr=-0.44\n",
      "president                                          idx=  6\tcorr=-0.43\n",
      "nurse                                              idx= 23\tcorr=-0.42\n",
      "commissioner                                       idx= 48\tcorr=-0.38\n",
      "secretary                                          idx= 32\tcorr=-0.37\n",
      "scientist                                          idx= 34\tcorr=-0.37\n",
      "mechanic                                           idx= 95\tcorr=-0.36\n",
      "manager                                            idx= 20\tcorr=-0.35\n",
      "operator                                           idx= 85\tcorr=-0.35\n",
      "surgeon                                            idx= 52\tcorr=-0.35\n",
      "artist                                             idx= 19\tcorr=-0.34\n",
      "officer                                            idx=  5\tcorr=-0.32\n",
      "priest                                             idx= 29\tcorr=-0.31\n",
      "mayor                                              idx= 30\tcorr=-0.30\n",
      "corporal                                           idx= 88\tcorr=-0.27\n",
      "police                                             idx=  2\tcorr=-0.27\n",
      "policeman                                          idx= 43\tcorr=-0.27\n",
      "merchant                                           idx= 99\tcorr=-0.26\n",
      "director                                           idx= 14\tcorr=-0.26\n",
      "singer                                             idx= 42\tcorr=-0.25\n",
      "sheriff                                            idx= 27\tcorr=-0.25\n",
      "astronaut                                          idx= 89\tcorr=0.24\n",
      "constable                                          idx= 83\tcorr=0.24\n",
      "detective                                          idx=  7\tcorr=0.26\n",
      "ranger                                             idx= 58\tcorr=0.27\n",
      "spy                                                idx= 39\tcorr=0.47\n",
      "therapist                                          idx= 81\tcorr=0.54\n"
     ]
    }
   ],
   "source": [
    "for _, row in sentiment_df[sentiment_df.corr_pval < 0.05].sort_values(by='corr')[['profession','corr','corr_pval']].iterrows():\n",
    "    idx = professions.to_list().index(row.profession)\n",
    "    if idx < 100:\n",
    "        print(f'{row.profession:50s} idx={idx + 1:3d}\\tcorr={row[\"corr\"]:.2f}')"
   ]
  },
  {
   "cell_type": "code",
   "execution_count": 114,
   "metadata": {},
   "outputs": [
    {
     "data": {
      "image/png": "[encoded data removed]",
      "text/plain": [
       "<Figure size 1440x720 with 1 Axes>"
      ]
     },
     "metadata": {
      "needs_background": "light"
     },
     "output_type": "display_data"
    }
   ],
   "source": [
    "professions = list(reversed(['cop','dealer','police','spy','nun','monk','guard','actress','engineer','dancer','ambassador','musician','surgeon','singer','designer','chef','astronaut']))\n",
    "proportions = []\n",
    "\n",
    "for profession in professions:\n",
    "    prop = sentiment_df.loc[sentiment_df.profession == profession, 'prop'].values[0]\n",
    "    proportions.append(prop)\n",
    "\n",
    "pos_professions = professions[:10]\n",
    "pos_proportions = proportions[:10]\n",
    "neg_professions = professions[10:]\n",
    "neg_proportions = proportions[10:]\n",
    "\n",
    "plt.figure(figsize=(20, 10))\n",
    "plt.bar(np.arange(len(pos_professions)), pos_proportions, label='top 10 positive-sentiment professions')\n",
    "plt.bar(10 + np.arange(len(neg_professions)), neg_proportions, label='top 7 negative-sentiment professions', color='salmon')\n",
    "\n",
    "plt.xticks(ticks=np.arange(len(professions)), labels=professions, rotation=90)\n",
    "plt.yticks(ticks=[0,0.2,0.4,0.5,0.6,0.8])\n",
    "plt.xlim(-1, len(professions))\n",
    "plt.grid(which='major', axis='y')\n",
    "plt.ylabel('proportion of positive-sentiment mentions')\n",
    "plt.legend(fontsize='x-large')\n",
    "\n",
    "for i, proportion in enumerate(proportions):\n",
    "    plt.text(i-0.15, proportion + 0.01, f'{proportion:.2f}')\n",
    "\n",
    "t = np.arange(len(professions))\n",
    "t[0], t[-1] = -1, len(professions)\n",
    "y = np.full(len(professions), fill_value=0.5)\n",
    "plt.plot(t, y, lw=3, color='black', ls='--')\n",
    "\n",
    "tikzplotlib.save('data/analysis_data/profession_sentiment_avg.tex')"
   ]
  },
  {
   "cell_type": "code",
   "execution_count": 158,
   "metadata": {},
   "outputs": [
    {
     "data": {
      "image/png": "[encoded data removed]",
      "text/plain": [
       "<Figure size 1440x720 with 1 Axes>"
      ]
     },
     "metadata": {
      "needs_background": "light"
     },
     "output_type": "display_data"
    }
   ],
   "source": [
    "professions = ['therapist','spy','ranger','detective','constable','astronaut','manager','mechanic','scientist','secretary','commissioner','nurse','president','professor','lawyer','doctor']\n",
    "correlations = []\n",
    "\n",
    "for profession in professions:\n",
    "    corr = sentiment_df.loc[sentiment_df.profession == profession, 'corr'].values[0]\n",
    "    correlations.append(corr)\n",
    "\n",
    "pos_professions = professions[:6]\n",
    "pos_correlations = correlations[:6]\n",
    "neg_professions = professions[6:]\n",
    "neg_correlations = correlations[6:]\n",
    "\n",
    "plt.figure(figsize=(20, 10))\n",
    "plt.bar(np.arange(len(pos_professions)), pos_correlations, label='top 6 increasing-sentiment professions')\n",
    "plt.bar(6 + np.arange(len(neg_professions)), neg_correlations, label='top 10 decreasing-sentiment professions', color='salmon')\n",
    "\n",
    "plt.xticks(ticks=np.arange(len(professions)), labels=professions, rotation=90)\n",
    "plt.xlim(-1, len(professions))\n",
    "plt.ylim(-0.7, 0.6)\n",
    "plt.grid(which='major', axis='y')\n",
    "plt.ylabel('spearman rank correlation coefficient of proportion of positive-sentiment mentions with time')\n",
    "plt.legend(fontsize='x-large')\n",
    "\n",
    "for i, correlation in enumerate(correlations):\n",
    "    if correlation > 0:\n",
    "        plt.text(i-0.5, correlation + 0.01, f'{correlation:5.2f}', fontsize='large')\n",
    "    else:\n",
    "        plt.text(i-0.5, correlation - 0.05, f'{correlation:5.2f}', fontsize='large')\n",
    "\n",
    "tikzplotlib.save('data/analysis_data/profession_sentiment_trend.tex')\n",
    "\n",
    "content = open('data/analysis_data/profession_sentiment_trend.tex').read()\n",
    "for correlation in correlations:\n",
    "    content = re.sub(f'{{{correlation:5.2f}}}', f'{{\\large{{\\\\\\\\textbf{{{correlation:5.2f}}}}}}}', content)\n",
    "content = re.sub('\\\\\\\\begin{tikzpicture}','\\pgfplotsset{width=16cm,height=9cm}\\n\\\\\\\\begin{tikzpicture}',content)    \n",
    "\n",
    "open('data/analysis_data/profession_sentiment_trend.tex','w').write(content);"
   ]
  },
  {
   "cell_type": "code",
   "execution_count": 134,
   "metadata": {},
   "outputs": [],
   "source": [
    "content = open('data/analysis_data/profession_sentiment_trend.tex').read()"
   ]
  },
  {
   "cell_type": "code",
   "execution_count": 136,
   "metadata": {},
   "outputs": [
    {
     "data": {
      "text/plain": [
       "'% This file was created by tikzplotlib v0.9.4.\\n\\\\begin{tikzpicture}\\n\\n\\\\definecolor{color0}{rgb}{0.12156862745098,0.466666666666667,0.705882352941177}\\n\\\\definecolor{color1}{rgb}{0.980392156862745,0.501960784313725,0.447058823529412}\\n\\n\\\\begin{axis}[\\nlegend cell align={left},\\nlegend style={fill opacity=0.8, draw opacity=1, text opacity=1, draw=white!80!black},\\ntick align=outside,\\ntick pos=left,\\nx grid style={white!69.0196078431373!black},\\nxmin=-1, xmax=16,\\nxtick style={color=black},\\nxtick={0,1,2,3,4,5,6,7,8,9,10,11,12,13,14,15},\\nxticklabel style = {rotate=90.0},\\nxticklabels={therapist,spy,ranger,detective,constable,astronaut,manager,mechanic,scientist,secretary,commissioner,nurse,president,professor,lawyer,doctor},\\ny grid style={white!69.0196078431373!black},\\nylabel={spearman rank correlation coefficient of proportion of positive-sentiment mentions with time},\\nymajorgrids,\\nymin=-0.67847474831034, ymax=0.594520335632854,\\nytick style={color=black}\\n]\\n\\\\draw[draw=none,fill=color0] (axis cs:-0.4,0) rectangle (axis cs:0.4,0.536656922726345);\\n\\\\addlegendimage{ybar,ybar legend,draw=none,fill=color0};\\n\\\\addlegendentry{top 6 increasing-sentiment professions}\\n\\n\\\\draw[draw=none,fill=color0] (axis cs:0.6,0) rectangle (axis cs:1.4,0.473652568014511);\\n\\\\draw[draw=none,fill=color0] (axis cs:1.6,0) rectangle (axis cs:2.4,0.273319365454805);\\n\\\\draw[draw=none,fill=color0] (axis cs:2.6,0) rectangle (axis cs:3.4,0.257802211561807);\\n\\\\draw[draw=none,fill=color0] (axis cs:3.6,0) rectangle (axis cs:4.4,0.243416945599219);\\n\\\\draw[draw=none,fill=color0] (axis cs:4.6,0) rectangle (axis cs:5.4,0.242686099422298);\\n\\\\draw[draw=none,fill=color1] (axis cs:5.6,0) rectangle (axis cs:6.4,-0.352496499297383);\\n\\\\addlegendimage{ybar,ybar legend,draw=none,fill=color1};\\n\\\\addlegendentry{top 10 decreasing-sentiment professions}\\n\\n\\\\draw[draw=none,fill=color1] (axis cs:6.6,0) rectangle (axis cs:7.4,-0.356734154304001);\\n\\\\draw[draw=none,fill=color1] (axis cs:7.6,0) rectangle (axis cs:8.4,-0.366258486377884);\\n\\\\draw[draw=none,fill=color1] (axis cs:8.6,0) rectangle (axis cs:9.4,-0.369498422144961);\\n\\\\draw[draw=none,fill=color1] (axis cs:9.6,0) rectangle (axis cs:10.4,-0.379425234542074);\\n\\\\draw[draw=none,fill=color1] (axis cs:10.6,0) rectangle (axis cs:11.4,-0.42301672416096);\\n\\\\draw[draw=none,fill=color1] (axis cs:11.6,0) rectangle (axis cs:12.4,-0.429768330786679);\\n\\\\draw[draw=none,fill=color1] (axis cs:12.6,0) rectangle (axis cs:13.4,-0.437837635382155);\\n\\\\draw[draw=none,fill=color1] (axis cs:13.6,0) rectangle (axis cs:14.4,-0.510784502347724);\\n\\\\draw[draw=none,fill=color1] (axis cs:14.6,0) rectangle (axis cs:15.4,-0.620611335403832);\\n\\\\draw (axis cs:-0.15,0.546656922726345) node[\\n  scale=0.6,\\n  anchor=base west,\\n  text=black,\\n  rotate=0.0\\n]{0.54};\\n\\\\draw (axis cs:0.85,0.483652568014511) node[\\n  scale=0.6,\\n  anchor=base west,\\n  text=black,\\n  rotate=0.0\\n]{0.47};\\n\\\\draw (axis cs:1.85,0.283319365454805) node[\\n  scale=0.6,\\n  anchor=base west,\\n  text=black,\\n  rotate=0.0\\n]{0.27};\\n\\\\draw (axis cs:2.85,0.267802211561808) node[\\n  scale=0.6,\\n  anchor=base west,\\n  text=black,\\n  rotate=0.0\\n]{0.26};\\n\\\\draw (axis cs:3.85,0.253416945599219) node[\\n  scale=0.6,\\n  anchor=base west,\\n  text=black,\\n  rotate=0.0\\n]{0.24};\\n\\\\draw (axis cs:4.85,0.252686099422298) node[\\n  scale=0.6,\\n  anchor=base west,\\n  text=black,\\n  rotate=0.0\\n]{0.24};\\n\\\\draw (axis cs:5.85,-0.382496499297383) node[\\n  scale=0.6,\\n  anchor=base west,\\n  text=black,\\n  rotate=0.0\\n]{-0.35};\\n\\\\draw (axis cs:6.85,-0.386734154304001) node[\\n  scale=0.6,\\n  anchor=base west,\\n  text=black,\\n  rotate=0.0\\n]{-0.36};\\n\\\\draw (axis cs:7.85,-0.396258486377884) node[\\n  scale=0.6,\\n  anchor=base west,\\n  text=black,\\n  rotate=0.0\\n]{-0.37};\\n\\\\draw (axis cs:8.85,-0.399498422144961) node[\\n  scale=0.6,\\n  anchor=base west,\\n  text=black,\\n  rotate=0.0\\n]{-0.37};\\n\\\\draw (axis cs:9.85,-0.409425234542074) node[\\n  scale=0.6,\\n  anchor=base west,\\n  text=black,\\n  rotate=0.0\\n]{-0.38};\\n\\\\draw (axis cs:10.85,-0.45301672416096) node[\\n  scale=0.6,\\n  anchor=base west,\\n  text=black,\\n  rotate=0.0\\n]{-0.42};\\n\\\\draw (axis cs:11.85,-0.459768330786679) node[\\n  scale=0.6,\\n  anchor=base west,\\n  text=black,\\n  rotate=0.0\\n]{-0.43};\\n\\\\draw (axis cs:12.85,-0.467837635382155) node[\\n  scale=0.6,\\n  anchor=base west,\\n  text=black,\\n  rotate=0.0\\n]{-0.44};\\n\\\\draw (axis cs:13.85,-0.540784502347724) node[\\n  scale=0.6,\\n  anchor=base west,\\n  text=black,\\n  rotate=0.0\\n]{-0.51};\\n\\\\draw (axis cs:14.85,-0.650611335403832) node[\\n  scale=0.6,\\n  anchor=base west,\\n  text=black,\\n  rotate=0.0\\n]{-0.62};\\n\\\\end{axis}\\n\\n\\\\end{tikzpicture}\\n'"
      ]
     },
     "execution_count": 136,
     "metadata": {},
     "output_type": "execute_result"
    }
   ],
   "source": [
    "content"
   ]
  },
  {
   "cell_type": "code",
   "execution_count": 137,
   "metadata": {},
   "outputs": [],
   "source": [
    "text = '{0.85}'"
   ]
  },
  {
   "cell_type": "code",
   "execution_count": 144,
   "metadata": {},
   "outputs": [
    {
     "data": {
      "text/plain": [
       "'{\\\\large{\\\\textbf{0.85}}}'"
      ]
     },
     "execution_count": 144,
     "metadata": {},
     "output_type": "execute_result"
    }
   ],
   "source": [
    "d = 0.853\n",
    "re.sub(f'{{{d:.2f}}}', f'{{\\large{{\\\\\\\\textbf{{{d:.2f}}}}}}}', text)"
   ]
  },
  {
   "cell_type": "code",
   "execution_count": 148,
   "metadata": {},
   "outputs": [
    {
     "name": "stdout",
     "output_type": "stream",
     "text": [
      "% This file was created by tikzplotlib v0.9.4.\n",
      "\\pgfplotsset{width=16cm,height=9cm}\n",
      "\\begin{tikzpicture}\n",
      "\n",
      "\\definecolor{color0}{rgb}{0.12156862745098,0.466666666666667,0.705882352941177}\n",
      "\\definecolor{color1}{rgb}{0.980392156862745,0.501960784313725,0.447058823529412}\n",
      "\n",
      "\\begin{axis}[\n",
      "legend cell align={left},\n",
      "legend style={fill opacity=0.8, draw opacity=1, text opacity=1, draw=white!80!black},\n",
      "tick align=outside,\n",
      "tick pos=left,\n",
      "x grid style={white!69.0196078431373!black},\n",
      "xmin=-1, xmax=16,\n",
      "xtick style={color=black},\n",
      "xtick={0,1,2,3,4,5,6,7,8,9,10,11,12,13,14,15},\n",
      "xticklabel style = {rotate=90.0},\n",
      "xticklabels={therapist,spy,ranger,detective,constable,astronaut,manager,mechanic,scientist,secretary,commissioner,nurse,president,professor,lawyer,doctor},\n",
      "y grid style={white!69.0196078431373!black},\n",
      "ylabel={spearman rank correlation coefficient of proportion of positive-sentiment mentions with time},\n",
      "ymajorgrids,\n",
      "ymin=-0.67847474831034, ymax=0.594520335632854,\n",
      "ytick style={color=black}\n",
      "]\n",
      "\\draw[draw=none,fill=color0] (axis cs:-0.4,0) rectangle (axis cs:0.4,0.536656922726345);\n",
      "\\addlegendimage{ybar,ybar legend,draw=none,fill=color0};\n",
      "\\addlegendentry{top 6 increasing-sentiment professions}\n",
      "\n",
      "\\draw[draw=none,fill=color0] (axis cs:0.6,0) rectangle (axis cs:1.4,0.473652568014511);\n",
      "\\draw[draw=none,fill=color0] (axis cs:1.6,0) rectangle (axis cs:2.4,0.273319365454805);\n",
      "\\draw[draw=none,fill=color0] (axis cs:2.6,0) rectangle (axis cs:3.4,0.257802211561807);\n",
      "\\draw[draw=none,fill=color0] (axis cs:3.6,0) rectangle (axis cs:4.4,0.243416945599219);\n",
      "\\draw[draw=none,fill=color0] (axis cs:4.6,0) rectangle (axis cs:5.4,0.242686099422298);\n",
      "\\draw[draw=none,fill=color1] (axis cs:5.6,0) rectangle (axis cs:6.4,-0.352496499297383);\n",
      "\\addlegendimage{ybar,ybar legend,draw=none,fill=color1};\n",
      "\\addlegendentry{top 10 decreasing-sentiment professions}\n",
      "\n",
      "\\draw[draw=none,fill=color1] (axis cs:6.6,0) rectangle (axis cs:7.4,-0.356734154304001);\n",
      "\\draw[draw=none,fill=color1] (axis cs:7.6,0) rectangle (axis cs:8.4,-0.366258486377884);\n",
      "\\draw[draw=none,fill=color1] (axis cs:8.6,0) rectangle (axis cs:9.4,-0.369498422144961);\n",
      "\\draw[draw=none,fill=color1] (axis cs:9.6,0) rectangle (axis cs:10.4,-0.379425234542074);\n",
      "\\draw[draw=none,fill=color1] (axis cs:10.6,0) rectangle (axis cs:11.4,-0.42301672416096);\n",
      "\\draw[draw=none,fill=color1] (axis cs:11.6,0) rectangle (axis cs:12.4,-0.429768330786679);\n",
      "\\draw[draw=none,fill=color1] (axis cs:12.6,0) rectangle (axis cs:13.4,-0.437837635382155);\n",
      "\\draw[draw=none,fill=color1] (axis cs:13.6,0) rectangle (axis cs:14.4,-0.510784502347724);\n",
      "\\draw[draw=none,fill=color1] (axis cs:14.6,0) rectangle (axis cs:15.4,-0.620611335403832);\n",
      "\\draw (axis cs:-0.15,0.546656922726345) node[\n",
      "  scale=0.6,\n",
      "  anchor=base west,\n",
      "  text=black,\n",
      "  rotate=0.0\n",
      "]{\\large{\\textbf{0.54}}};\n",
      "\\draw (axis cs:0.85,0.483652568014511) node[\n",
      "  scale=0.6,\n",
      "  anchor=base west,\n",
      "  text=black,\n",
      "  rotate=0.0\n",
      "]{\\large{\\textbf{0.47}}};\n",
      "\\draw (axis cs:1.85,0.283319365454805) node[\n",
      "  scale=0.6,\n",
      "  anchor=base west,\n",
      "  text=black,\n",
      "  rotate=0.0\n",
      "]{\\large{\\textbf{0.27}}};\n",
      "\\draw (axis cs:2.85,0.267802211561808) node[\n",
      "  scale=0.6,\n",
      "  anchor=base west,\n",
      "  text=black,\n",
      "  rotate=0.0\n",
      "]{\\large{\\textbf{0.26}}};\n",
      "\\draw (axis cs:3.85,0.253416945599219) node[\n",
      "  scale=0.6,\n",
      "  anchor=base west,\n",
      "  text=black,\n",
      "  rotate=0.0\n",
      "]{\\large{\\textbf{\\large{\\textbf{0.24}}}}};\n",
      "\\draw (axis cs:4.85,0.252686099422298) node[\n",
      "  scale=0.6,\n",
      "  anchor=base west,\n",
      "  text=black,\n",
      "  rotate=0.0\n",
      "]{\\large{\\textbf{\\large{\\textbf{0.24}}}}};\n",
      "\\draw (axis cs:5.85,-0.382496499297383) node[\n",
      "  scale=0.6,\n",
      "  anchor=base west,\n",
      "  text=black,\n",
      "  rotate=0.0\n",
      "]{\\large{\\textbf{-0.35}}};\n",
      "\\draw (axis cs:6.85,-0.386734154304001) node[\n",
      "  scale=0.6,\n",
      "  anchor=base west,\n",
      "  text=black,\n",
      "  rotate=0.0\n",
      "]{\\large{\\textbf{-0.36}}};\n",
      "\\draw (axis cs:7.85,-0.396258486377884) node[\n",
      "  scale=0.6,\n",
      "  anchor=base west,\n",
      "  text=black,\n",
      "  rotate=0.0\n",
      "]{\\large{\\textbf{\\large{\\textbf{-0.37}}}}};\n",
      "\\draw (axis cs:8.85,-0.399498422144961) node[\n",
      "  scale=0.6,\n",
      "  anchor=base west,\n",
      "  text=black,\n",
      "  rotate=0.0\n",
      "]{\\large{\\textbf{\\large{\\textbf{-0.37}}}}};\n",
      "\\draw (axis cs:9.85,-0.409425234542074) node[\n",
      "  scale=0.6,\n",
      "  anchor=base west,\n",
      "  text=black,\n",
      "  rotate=0.0\n",
      "]{\\large{\\textbf{-0.38}}};\n",
      "\\draw (axis cs:10.85,-0.45301672416096) node[\n",
      "  scale=0.6,\n",
      "  anchor=base west,\n",
      "  text=black,\n",
      "  rotate=0.0\n",
      "]{\\large{\\textbf{-0.42}}};\n",
      "\\draw (axis cs:11.85,-0.459768330786679) node[\n",
      "  scale=0.6,\n",
      "  anchor=base west,\n",
      "  text=black,\n",
      "  rotate=0.0\n",
      "]{\\large{\\textbf{-0.43}}};\n",
      "\\draw (axis cs:12.85,-0.467837635382155) node[\n",
      "  scale=0.6,\n",
      "  anchor=base west,\n",
      "  text=black,\n",
      "  rotate=0.0\n",
      "]{\\large{\\textbf{-0.44}}};\n",
      "\\draw (axis cs:13.85,-0.540784502347724) node[\n",
      "  scale=0.6,\n",
      "  anchor=base west,\n",
      "  text=black,\n",
      "  rotate=0.0\n",
      "]{\\large{\\textbf{-0.51}}};\n",
      "\\draw (axis cs:14.85,-0.650611335403832) node[\n",
      "  scale=0.6,\n",
      "  anchor=base west,\n",
      "  text=black,\n",
      "  rotate=0.0\n",
      "]{\\large{\\textbf{-0.62}}};\n",
      "\\end{axis}\n",
      "\n",
      "\\end{tikzpicture}\n",
      "\n"
     ]
    }
   ],
   "source": [
    "print(re.sub('\\\\\\\\begin{tikzpicture}','\\pgfplotsset{width=16cm,height=9cm}\\n\\\\\\\\begin{tikzpicture}',content))"
   ]
  },
  {
   "cell_type": "code",
   "execution_count": null,
   "metadata": {},
   "outputs": [],
   "source": []
  }
 ],
 "metadata": {
  "kernelspec": {
   "display_name": "python3.6.7",
   "language": "python",
   "name": "python3.6.7"
  },
  "language_info": {
   "codemirror_mode": {
    "name": "ipython",
    "version": 3
   },
   "file_extension": ".py",
   "mimetype": "text/x-python",
   "name": "python",
   "nbconvert_exporter": "python",
   "pygments_lexer": "ipython3",
   "version": "3.6.7"
  }
 },
 "nbformat": 4,
 "nbformat_minor": 4
}
