{
 "cells": [
  {
   "cell_type": "code",
   "execution_count": 2,
   "metadata": {},
   "outputs": [],
   "source": [
    "import pandas as pd\n",
    "import numpy as np\n",
    "from scipy.stats import spearmanr\n",
    "import os\n",
    "from tqdm import tqdm\n",
    "from collections import Counter, defaultdict\n",
    "import json\n",
    "import matplotlib.pyplot as plt"
   ]
  },
  {
   "cell_type": "code",
   "execution_count": 4,
   "metadata": {},
   "outputs": [
    {
     "name": "stdout",
     "output_type": "stream",
     "text": [
      "Index(['1950', '1951', '1952', '1953', '1954', '1955', '1956', '1957', '1958',\n",
      "       '1959', '1960', '1961', '1962', '1963', '1964', '1965', '1966', '1967',\n",
      "       '1968', '1969', '1970', '1971', '1972', '1973', '1974', '1975', '1976',\n",
      "       '1977', '1978', '1979', '1980', '1981', '1982', '1983', '1984', '1985',\n",
      "       '1986', '1987', '1988', '1989', '1990', '1991', '1992', '1993', '1994',\n",
      "       '1995', '1996', '1997', '1998', '1999', '2000', '2001', '2002', '2003',\n",
      "       '2004', '2005', '2006', '2007', '2008', '2009', '2010', '2011', '2012',\n",
      "       '2013', '2014', '2015', '2016', '2017'],\n",
      "      dtype='object')\n",
      "(1000, 68)\n"
     ]
    }
   ],
   "source": [
    "df = pd.read_csv(\"../data/analysis_data/top1000_merged_profession_frequency.csv\", index_col=0)\n",
    "print(df.columns)\n",
    "print(df.shape)"
   ]
  },
  {
   "cell_type": "code",
   "execution_count": 6,
   "metadata": {},
   "outputs": [
    {
     "name": "stdout",
     "output_type": "stream",
     "text": [
      "SpearmanrResult(correlation=0.7544636454487703, pvalue=1.093353978039329e-13)\n"
     ]
    }
   ],
   "source": [
    "years = np.arange(1950, 2018)\n",
    "print(spearmanr(df.loc[\"massage therapist\"].values, years))"
   ]
  },
  {
   "cell_type": "code",
   "execution_count": 8,
   "metadata": {},
   "outputs": [
    {
     "name": "stdout",
     "output_type": "stream",
     "text": [
      "SpearmanrResult(correlation=-0.2674352025041035, pvalue=0.027470334257188058)\n"
     ]
    }
   ],
   "source": [
    "print(spearmanr(df.loc[\"nurse\"].values, years))"
   ]
  },
  {
   "cell_type": "code",
   "execution_count": null,
   "metadata": {},
   "outputs": [],
   "source": []
  }
 ],
 "metadata": {
  "kernelspec": {
   "display_name": "Python 3.6.7 64-bit ('3.6.7': pyenv)",
   "language": "python",
   "name": "python367jvsc74a57bd08def18f26f281a34b07d6dd75b93a12ba457c3a36882a619f0122d104439bc8a"
  },
  "language_info": {
   "codemirror_mode": {
    "name": "ipython",
    "version": 3
   },
   "file_extension": ".py",
   "mimetype": "text/x-python",
   "name": "python",
   "nbconvert_exporter": "python",
   "pygments_lexer": "ipython3",
   "version": "3.6.7"
  }
 },
 "nbformat": 4,
 "nbformat_minor": 4
}
