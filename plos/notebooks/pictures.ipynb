{
 "cells": [
  {
   "cell_type": "code",
   "execution_count": 1,
   "metadata": {},
   "outputs": [],
   "source": [
    "import pandas as pd\n",
    "from matplotlib import pyplot as plt\n",
    "import tikzplotlib\n",
    "from collections import Counter\n",
    "import numpy as np"
   ]
  },
  {
   "cell_type": "markdown",
   "metadata": {},
   "source": [
    "## Read IMDb csv"
   ]
  },
  {
   "cell_type": "code",
   "execution_count": 2,
   "metadata": {},
   "outputs": [],
   "source": [
    "imdb_df = pd.read_csv(\"data/imdb/imdb.ngram.csv\", index_col=None)"
   ]
  },
  {
   "cell_type": "code",
   "execution_count": 3,
   "metadata": {},
   "outputs": [
    {
     "data": {
      "text/html": [
       "<div>\n",
       "<style scoped>\n",
       "    .dataframe tbody tr th:only-of-type {\n",
       "        vertical-align: middle;\n",
       "    }\n",
       "\n",
       "    .dataframe tbody tr th {\n",
       "        vertical-align: top;\n",
       "    }\n",
       "\n",
       "    .dataframe thead th {\n",
       "        text-align: right;\n",
       "    }\n",
       "</style>\n",
       "<table border=\"1\" class=\"dataframe\">\n",
       "  <thead>\n",
       "    <tr style=\"text-align: right;\">\n",
       "      <th></th>\n",
       "      <th>year</th>\n",
       "      <th>imdb_ID</th>\n",
       "      <th>xml_ID</th>\n",
       "      <th>n_sentences</th>\n",
       "      <th>n_words</th>\n",
       "      <th>n_sentences_title</th>\n",
       "      <th>imdb_year</th>\n",
       "      <th>imdb_genres</th>\n",
       "      <th>imdb_countries</th>\n",
       "      <th>imdb_kind</th>\n",
       "      <th>imdb_languages</th>\n",
       "      <th>imdb_title</th>\n",
       "      <th>first_imdb_country</th>\n",
       "      <th>first_imdb_language</th>\n",
       "      <th>1_gram_count</th>\n",
       "      <th>2_gram_count</th>\n",
       "      <th>3_gram_count</th>\n",
       "      <th>4_gram_count</th>\n",
       "      <th>5_gram_count</th>\n",
       "    </tr>\n",
       "  </thead>\n",
       "  <tbody>\n",
       "    <tr>\n",
       "      <th>0</th>\n",
       "      <td>2001</td>\n",
       "      <td>35423</td>\n",
       "      <td>3507231.xml</td>\n",
       "      <td>2184</td>\n",
       "      <td>16534</td>\n",
       "      <td>46</td>\n",
       "      <td>2001.0</td>\n",
       "      <td>Comedy;Fantasy;Romance</td>\n",
       "      <td>United States</td>\n",
       "      <td>movie</td>\n",
       "      <td>English;French</td>\n",
       "      <td>Kate &amp; Leopold</td>\n",
       "      <td>United States</td>\n",
       "      <td>English</td>\n",
       "      <td>16534</td>\n",
       "      <td>14350</td>\n",
       "      <td>12177</td>\n",
       "      <td>10265</td>\n",
       "      <td>8545</td>\n",
       "    </tr>\n",
       "    <tr>\n",
       "      <th>1</th>\n",
       "      <td>1965</td>\n",
       "      <td>36574</td>\n",
       "      <td>214855.xml</td>\n",
       "      <td>509</td>\n",
       "      <td>3147</td>\n",
       "      <td>14</td>\n",
       "      <td>1965.0</td>\n",
       "      <td>NaN</td>\n",
       "      <td>West Germany</td>\n",
       "      <td>movie</td>\n",
       "      <td>German</td>\n",
       "      <td>January 30, 1945</td>\n",
       "      <td>West Germany</td>\n",
       "      <td>German</td>\n",
       "      <td>3147</td>\n",
       "      <td>2638</td>\n",
       "      <td>2129</td>\n",
       "      <td>1682</td>\n",
       "      <td>1294</td>\n",
       "    </tr>\n",
       "    <tr>\n",
       "      <th>2</th>\n",
       "      <td>1954</td>\n",
       "      <td>38089</td>\n",
       "      <td>5640815.xml</td>\n",
       "      <td>657</td>\n",
       "      <td>5180</td>\n",
       "      <td>51</td>\n",
       "      <td>1954.0</td>\n",
       "      <td>Drama;War</td>\n",
       "      <td>Italy;France</td>\n",
       "      <td>movie</td>\n",
       "      <td>Italian</td>\n",
       "      <td>Siluri umani</td>\n",
       "      <td>Italy</td>\n",
       "      <td>Italian</td>\n",
       "      <td>5180</td>\n",
       "      <td>4523</td>\n",
       "      <td>3866</td>\n",
       "      <td>3256</td>\n",
       "      <td>2716</td>\n",
       "    </tr>\n",
       "    <tr>\n",
       "      <th>3</th>\n",
       "      <td>1950</td>\n",
       "      <td>40284</td>\n",
       "      <td>4657808.xml</td>\n",
       "      <td>1461</td>\n",
       "      <td>11010</td>\n",
       "      <td>56</td>\n",
       "      <td>1950.0</td>\n",
       "      <td>Drama;History</td>\n",
       "      <td>France;Italy</td>\n",
       "      <td>movie</td>\n",
       "      <td>French;Italian</td>\n",
       "      <td>Sins of Pompeii</td>\n",
       "      <td>France</td>\n",
       "      <td>French</td>\n",
       "      <td>11010</td>\n",
       "      <td>9549</td>\n",
       "      <td>8088</td>\n",
       "      <td>6768</td>\n",
       "      <td>5559</td>\n",
       "    </tr>\n",
       "    <tr>\n",
       "      <th>4</th>\n",
       "      <td>1950</td>\n",
       "      <td>40300</td>\n",
       "      <td>100294.xml</td>\n",
       "      <td>500</td>\n",
       "      <td>6351</td>\n",
       "      <td>26</td>\n",
       "      <td>1950.0</td>\n",
       "      <td>Drama</td>\n",
       "      <td>Mexico</td>\n",
       "      <td>movie</td>\n",
       "      <td>Spanish</td>\n",
       "      <td>The Devil Is a Woman</td>\n",
       "      <td>Mexico</td>\n",
       "      <td>Spanish</td>\n",
       "      <td>6351</td>\n",
       "      <td>5851</td>\n",
       "      <td>5353</td>\n",
       "      <td>4878</td>\n",
       "      <td>4424</td>\n",
       "    </tr>\n",
       "  </tbody>\n",
       "</table>\n",
       "</div>"
      ],
      "text/plain": [
       "   year  imdb_ID       xml_ID  n_sentences  n_words  n_sentences_title  \\\n",
       "0  2001    35423  3507231.xml         2184    16534                 46   \n",
       "1  1965    36574   214855.xml          509     3147                 14   \n",
       "2  1954    38089  5640815.xml          657     5180                 51   \n",
       "3  1950    40284  4657808.xml         1461    11010                 56   \n",
       "4  1950    40300   100294.xml          500     6351                 26   \n",
       "\n",
       "   imdb_year             imdb_genres imdb_countries imdb_kind  imdb_languages  \\\n",
       "0     2001.0  Comedy;Fantasy;Romance  United States     movie  English;French   \n",
       "1     1965.0                     NaN   West Germany     movie          German   \n",
       "2     1954.0               Drama;War   Italy;France     movie         Italian   \n",
       "3     1950.0           Drama;History   France;Italy     movie  French;Italian   \n",
       "4     1950.0                   Drama         Mexico     movie         Spanish   \n",
       "\n",
       "             imdb_title first_imdb_country first_imdb_language  1_gram_count  \\\n",
       "0        Kate & Leopold      United States             English         16534   \n",
       "1      January 30, 1945       West Germany              German          3147   \n",
       "2          Siluri umani              Italy             Italian          5180   \n",
       "3       Sins of Pompeii             France              French         11010   \n",
       "4  The Devil Is a Woman             Mexico             Spanish          6351   \n",
       "\n",
       "   2_gram_count  3_gram_count  4_gram_count  5_gram_count  \n",
       "0         14350         12177         10265          8545  \n",
       "1          2638          2129          1682          1294  \n",
       "2          4523          3866          3256          2716  \n",
       "3          9549          8088          6768          5559  \n",
       "4          5851          5353          4878          4424  "
      ]
     },
     "execution_count": 3,
     "metadata": {},
     "output_type": "execute_result"
    }
   ],
   "source": [
    "imdb_df.head()"
   ]
  },
  {
   "cell_type": "markdown",
   "metadata": {},
   "source": [
    "## Bar Plot of Count of Movies and TV shows over decades"
   ]
  },
  {
   "cell_type": "code",
   "execution_count": 48,
   "metadata": {},
   "outputs": [],
   "source": [
    "year_ticks = [\"1950-1959\", \"1960-1969\", \"1970-1979\", \"1980-1989\", \"1990-1999\", \"2000-2009\", \"2010-2017\"]\n",
    "year_ticks = [f\"{x:>10s}\" for x in year_ticks]\n",
    "year_axis = np.arange(7)\n",
    "\n",
    "movie_count = []\n",
    "tv_count = []\n",
    "\n",
    "subtitle_year = imdb_df.year.values\n",
    "imdb_kind = imdb_df.imdb_kind.values\n",
    "\n",
    "for i in range(7):\n",
    "    min_year = 1950 + 10*i\n",
    "    max_year = min(min_year + 9, 2017)\n",
    "    \n",
    "    movie_count.append(((subtitle_year >= min_year) & (subtitle_year <= max_year) & (imdb_kind == \"movie\")).sum())\n",
    "    tv_count.append(((subtitle_year >= min_year) & (subtitle_year <= max_year) & (imdb_kind == \"episode\")).sum())"
   ]
  },
  {
   "cell_type": "code",
   "execution_count": 58,
   "metadata": {},
   "outputs": [
    {
     "data": {
      "image/png": "[encoded data removed]",
      "text/plain": [
       "<Figure size 432x288 with 1 Axes>"
      ]
     },
     "metadata": {
      "needs_background": "light"
     },
     "output_type": "display_data"
    }
   ],
   "source": [
    "width = 0.4\n",
    "\n",
    "plt.figure(figsize=(6, 4))\n",
    "plt.rcParams.update({\"font.size\":18})\n",
    "\n",
    "plt.bar(year_axis-width/2, movie_count, width=width, label=\"movie\", color=\"cornflowerblue\")\n",
    "plt.bar(year_axis+width/2, tv_count, width=width, label=\"tv\", color=\"lightsalmon\")\n",
    "plt.xticks(ticks=year_axis, labels=year_ticks, rotation=90, fontsize=8)\n",
    "plt.legend(prop={\"size\":24})\n",
    "plt.ylabel(\"Count\", fontsize=24)\n",
    "tikzplotlib.save(\"data/analysis_data/kind.tex\")\n",
    "\n",
    "plt.show()"
   ]
  },
  {
   "cell_type": "markdown",
   "metadata": {},
   "source": [
    "## Bar Plot of IMDb Genre"
   ]
  },
  {
   "cell_type": "code",
   "execution_count": 6,
   "metadata": {},
   "outputs": [
    {
     "data": {
      "text/plain": [
       "379344"
      ]
     },
     "execution_count": 6,
     "metadata": {},
     "output_type": "execute_result"
    }
   ],
   "source": [
    "imdb_genre = [genre for imdb_genre_str in imdb_df.imdb_genres.dropna() for genre in imdb_genre_str.split(\";\")]\n",
    "len(imdb_genre)"
   ]
  },
  {
   "cell_type": "code",
   "execution_count": 50,
   "metadata": {},
   "outputs": [],
   "source": [
    "genre_count, genre_ticks = [], []\n",
    "\n",
    "for genre, count in sorted(Counter(imdb_genre).items(), key=lambda x: x[1], reverse=True):\n",
    "    genre_count.append(count)\n",
    "    genre_ticks.append(genre)\n",
    "\n",
    "genre_ticks = [f\"{x:>10s}\" for x in genre_ticks]\n",
    "genre_axis = np.arange(len(genre_ticks))"
   ]
  },
  {
   "cell_type": "code",
   "execution_count": 59,
   "metadata": {},
   "outputs": [
    {
     "data": {
      "image/png": "[encoded data removed]",
      "text/plain": [
       "<Figure size 432x288 with 1 Axes>"
      ]
     },
     "metadata": {
      "needs_background": "light"
     },
     "output_type": "display_data"
    }
   ],
   "source": [
    "topk = 10\n",
    "\n",
    "plt.figure(figsize=(6, 4))\n",
    "plt.rcParams.update({\"font.size\":18})\n",
    "\n",
    "plt.bar(genre_axis[:topk], genre_count[:topk], width=0.6, color=\"seagreen\", label=\"genre\")\n",
    "plt.xticks(ticks=genre_axis[:topk], labels=genre_ticks[:topk], rotation=90)\n",
    "plt.legend(prop={\"size\":24})\n",
    "plt.ylabel(\"Count\")\n",
    "tikzplotlib.save(\"data/analysis_data/genre.tex\")\n",
    "\n",
    "plt.show()"
   ]
  },
  {
   "cell_type": "markdown",
   "metadata": {},
   "source": [
    "## Bar Plot of IMDb Country"
   ]
  },
  {
   "cell_type": "code",
   "execution_count": 18,
   "metadata": {},
   "outputs": [
    {
     "data": {
      "text/plain": [
       "120887"
      ]
     },
     "execution_count": 18,
     "metadata": {},
     "output_type": "execute_result"
    }
   ],
   "source": [
    "imdb_country = [country for imdb_country_str in imdb_df.imdb_countries.dropna() for country in imdb_country_str.split(\";\")]\n",
    "len(imdb_country)"
   ]
  },
  {
   "cell_type": "code",
   "execution_count": 52,
   "metadata": {},
   "outputs": [],
   "source": [
    "country_count, country_ticks = [], []\n",
    "\n",
    "for country, count in sorted(Counter(imdb_country).items(), key=lambda x: x[1], reverse=True):\n",
    "    country_count.append(count)\n",
    "    country = \"U.S.\" if country == \"United States\" else country\n",
    "    country = \"U.K.\" if country == \"United Kingdom\" else country\n",
    "    country_ticks.append(country)\n",
    "\n",
    "country_ticks = [f\"{x:>10s}\" for x in country_ticks]\n",
    "country_axis = np.arange(len(country_ticks))"
   ]
  },
  {
   "cell_type": "code",
   "execution_count": 60,
   "metadata": {},
   "outputs": [
    {
     "data": {
      "image/png": "[encoded data removed]",
      "text/plain": [
       "<Figure size 432x288 with 1 Axes>"
      ]
     },
     "metadata": {
      "needs_background": "light"
     },
     "output_type": "display_data"
    }
   ],
   "source": [
    "topk = 10\n",
    "\n",
    "plt.figure(figsize=(6, 4))\n",
    "plt.rcParams.update({\"font.size\":18})\n",
    "\n",
    "plt.bar(country_axis[:topk], country_count[:topk], width=0.6, color=\"mediumpurple\", label=\"country\")\n",
    "plt.xticks(ticks=country_axis[:topk], labels=country_ticks[:topk], rotation=90)\n",
    "plt.legend(prop={\"size\":24})\n",
    "plt.ylabel(\"Count\")\n",
    "tikzplotlib.save(\"data/analysis_data/country.tex\")\n",
    "\n",
    "plt.show()"
   ]
  },
  {
   "cell_type": "markdown",
   "metadata": {},
   "source": [
    "## Bar Plot of IMDb Language"
   ]
  },
  {
   "cell_type": "code",
   "execution_count": 24,
   "metadata": {},
   "outputs": [
    {
     "data": {
      "text/plain": [
       "136926"
      ]
     },
     "execution_count": 24,
     "metadata": {},
     "output_type": "execute_result"
    }
   ],
   "source": [
    "imdb_language = [language for imdb_language_str in imdb_df.imdb_languages.dropna() for language in imdb_language_str.split(\";\")]\n",
    "len(imdb_language)"
   ]
  },
  {
   "cell_type": "code",
   "execution_count": 56,
   "metadata": {},
   "outputs": [],
   "source": [
    "lang_count, lang_ticks = [], []\n",
    "\n",
    "for lang, count in sorted(Counter(imdb_language).items(), key=lambda x: x[1], reverse=True):\n",
    "    lang_count.append(count)\n",
    "    lang_ticks.append(lang)\n",
    "\n",
    "lang_ticks = [f\"{x:>10s}\" for x in lang_ticks]\n",
    "lang_axis = np.arange(len(lang_ticks))"
   ]
  },
  {
   "cell_type": "code",
   "execution_count": 61,
   "metadata": {},
   "outputs": [
    {
     "data": {
      "image/png": "[encoded data removed]",
      "text/plain": [
       "<Figure size 432x288 with 1 Axes>"
      ]
     },
     "metadata": {
      "needs_background": "light"
     },
     "output_type": "display_data"
    }
   ],
   "source": [
    "topk = 10\n",
    "\n",
    "plt.figure(figsize=(6, 4))\n",
    "plt.rcParams.update({\"font.size\":18})\n",
    "\n",
    "plt.bar(lang_axis[:topk], lang_count[:topk], width=0.6, color=\"coral\", label=\"language\")\n",
    "plt.xticks(ticks=lang_axis[:topk], labels=lang_ticks[:topk], rotation=90)\n",
    "plt.legend(prop={\"size\":24})\n",
    "plt.ylabel(\"Count\")\n",
    "tikzplotlib.save(\"data/analysis_data/language.tex\")\n",
    "\n",
    "plt.show()"
   ]
  },
  {
   "cell_type": "code",
   "execution_count": null,
   "metadata": {},
   "outputs": [],
   "source": []
  }
 ],
 "metadata": {
  "kernelspec": {
   "display_name": "python3.6.7",
   "language": "python",
   "name": "python3.6.7"
  },
  "language_info": {
   "codemirror_mode": {
    "name": "ipython",
    "version": 3
   },
   "file_extension": ".py",
   "mimetype": "text/x-python",
   "name": "python",
   "nbconvert_exporter": "python",
   "pygments_lexer": "ipython3",
   "version": "3.6.7"
  }
 },
 "nbformat": 4,
 "nbformat_minor": 4
}
